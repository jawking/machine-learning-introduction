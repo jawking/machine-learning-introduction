
{
 "cells": [
  {
   "cell_type": "markdown",
   "metadata": {},
   "source": [
    "# Programming Exercise 2: Logistic Regression\n",
    "\n",
    "This notebook is based on the [Coursera Machine Learning](https://www.coursera.org/learn/machine-learning) course by Andrew Ng. We believe it is the best course for people who are keen to make their first steps in Machine Learning.\n",
    "\n",
    "The course is taught in Octave / MATLAB, but Python is much more broadly used in the industry and academia. We have used and modified a Python implementation from [David Kaleko](https://github.com/kaleko). \n",
    "\n",
    "Explanations of the model, and any mistakes herein, are of our own doing. If you're unsure about anything, feel free to ask us during the session!\n",
    "\n",
    "**Instructions:**\n",
    "- You can run the notebook at your own pace\n",
    "- When you see \" 'write code here' \" in the cells, delete everything including the \" ' \", then write in your own code. If you are stuck, you can peek at the LogisticRegression_answers notebook. There are many different ways to write code to achieve the same purpose, so don't fret if you seee your code is different from ours. \n",
    "- Ask if you need help\n",
    "\n",
    "**You will learn to:**\n",
    "- Play with a toy dataset\n",
    "\n",
    "- Build one of the simplest machine learning algorithms for classification: Logistic regression\n",
    "\n",
    "- Apply logistic regression on the toy dataset to predict\n",
    "    \n",
    "- Learn how it works and potential caveats"
   ]
  },
  {
   "cell_type": "markdown",
   "metadata": {},
   "source": [
    "## 1 Packages\n",
    "\n",
    "First, let's run the cell below to import all the packages that you will need during this assignment. "
   ]
  },
  {
   "cell_type": "code",
   "execution_count": 1,
   "metadata": {
    "collapsed": true
   },
   "outputs": [],
   "source": [
    "# the following line allows us to output plots in the notebook\n",
    "%matplotlib inline \n",
    "\n",
    "import scipy                      # fundamental package that contains all important mathematical functions\n",
    "import numpy as np                # fundamental package for scientific computing with Python\n",
    "import pandas as pd               # fundamental dataframe package to wrangle a dataset in tabular form\n",
    "import matplotlib.pyplot as plt   # famous library to plot graphs in Python"
   ]
  },
  {
   "cell_type": "markdown",
   "metadata": {},
   "source": [
    "## 2 Overview of the Dataset\n",
    "\n",
    "### 2.1 Problem Statement"
   ]
  },
  {
   "cell_type": "markdown",
   "metadata": {},
   "source": [
    "Recall that the task of supervised learning is to train a model to predict a label $y$ given an input $x = (x_1, x_2, \\dotsc, x_n)$ based a bunch of labelled examples $\\{(x^{(1)}, y^{(1)}), (x^{(2)}, y^{(2)}), \\dotsc, (x^{(m)}, y^{(m)})\\}$ which we call the **training data**.\n",
    "\n",
    "In binary classification, the label $y$ can take on two values: $0$ or $1$.\n",
    "$0$ represents the \"negative class\" and $1$ represents the \"positive class\".\n",
    "Given an input $x$ we would like to know which class it belongs to.\n",
    "Some examples logistic regression can be applied to are:\n",
    "- Given an email, predict whether it was \"spam\" or \"not spam\"\n",
    "- Given an online transaction, predict whether it was \"fraud\" or \"not fraud\"\n",
    "- Given a tumor data, predict whether it is \"malignant\" or \"benign\""
   ]
  },
  {
   "cell_type": "markdown",
   "metadata": {},
   "source": [
    "Suppose that you are the administrator of a university department and you want to determine each applicant’s chance of admission based on their results on two exams. You have historical data from previous applicants that you can use as a training set for logistic regression. For each training example, you have the applicant’s scores on two exams and the admissions decision.\n",
    "\n",
    "Let's get more familiar with the dataset. Load the data by running the following code."
   ]
  },
  {
   "cell_type": "code",
   "execution_count": 2,
   "metadata": {},
   "outputs": [
    {
     "data": {
      "text/html": [
       "<div>\n",
       "<style>\n",
       "    .dataframe thead tr:only-child th {\n",
       "        text-align: right;\n",
       "    }\n",
       "\n",
       "    .dataframe thead th {\n",
       "        text-align: left;\n",
       "    }\n",
       "\n",
       "    .dataframe tbody tr th {\n",
       "        vertical-align: top;\n",
       "    }\n",
       "</style>\n",
       "<table border=\"1\" class=\"dataframe\">\n",
       "  <thead>\n",
       "    <tr style=\"text-align: right;\">\n",
       "      <th></th>\n",
       "      <th>Exam1_score</th>\n",
       "      <th>Exam2_score</th>\n",
       "      <th>Admitted</th>\n",
       "    </tr>\n",
       "  </thead>\n",
       "  <tbody>\n",
       "    <tr>\n",
       "      <th>0</th>\n",
       "      <td>3.462366</td>\n",
       "      <td>7.802469</td>\n",
       "      <td>0</td>\n",
       "    </tr>\n",
       "    <tr>\n",
       "      <th>1</th>\n",
       "      <td>3.028671</td>\n",
       "      <td>4.389500</td>\n",
       "      <td>0</td>\n",
       "    </tr>\n",
       "    <tr>\n",
       "      <th>2</th>\n",
       "      <td>3.584741</td>\n",
       "      <td>7.290220</td>\n",
       "      <td>0</td>\n",
       "    </tr>\n",
       "    <tr>\n",
       "      <th>3</th>\n",
       "      <td>6.018260</td>\n",
       "      <td>8.630855</td>\n",
       "      <td>1</td>\n",
       "    </tr>\n",
       "    <tr>\n",
       "      <th>4</th>\n",
       "      <td>7.903274</td>\n",
       "      <td>7.534438</td>\n",
       "      <td>1</td>\n",
       "    </tr>\n",
       "  </tbody>\n",
       "</table>\n",
       "</div>"
      ],
      "text/plain": [
       "   Exam1_score  Exam2_score  Admitted\n",
       "0     3.462366     7.802469         0\n",
       "1     3.028671     4.389500         0\n",
       "2     3.584741     7.290220         0\n",
       "3     6.018260     8.630855         1\n",
       "4     7.903274     7.534438         1"
      ]
     },
     "execution_count": 2,
     "metadata": {},
     "output_type": "execute_result"
    }
   ],
   "source": [
    "data = pd.read_csv('data/exam_data.txt', sep = ',', header=None)\n",
    "data.columns = ['Exam1_score', 'Exam2_score', 'Admitted']\n",
    "\n",
    "# This is the code to display the top samples in the dataset. You can change number to choose how many to display \n",
    "data.head(5)"
   ]
  },
  {
   "cell_type": "markdown",
   "metadata": {},
   "source": [
    "### 2.2 Data Visualization"
   ]
  },
  {
   "cell_type": "code",
   "execution_count": 3,
   "metadata": {
    "scrolled": false
   },
   "outputs": [
    {
     "data": {
      "image/png": "iVBORw0KGgoAAAANSUhEUgAAAfIAAAGDCAYAAADQ75K0AAAABHNCSVQICAgIfAhkiAAAAAlwSFlz\nAAALEgAACxIB0t1+/AAAIABJREFUeJzt3X+clXWd9/HXZ4Dhl5iK/BCIhTXTFGXUsagMNjWlcKnW\nItLVwC1yl9TEfuDd3lnd93ZTeduWy51rqbibgoRmlkVpJeQPbAfDn+iWhQbKDzFUYGQQPvcf55yZ\nc4YZODPnXNf1va7r/Xw8eMyca86c63POHM7n+n6+v8zdERERkXRqSDoAERER6T0lchERkRRTIhcR\nEUkxJXIREZEUUyIXERFJMSVyERGRFFMiF5FYmZmb2ZuSjkMkK5TIRQJkZqea2QNm9rKZvWRm95vZ\nKTU+5iwzu6/TsUVm9r9rizYaXcUrIvvqm3QAIlLJzA4GfgL8I7AUaATeBexKMq6umFlfd3896ThE\n8kwtcpHwvBnA3Re7+x53b3X3X7j7o6U7mNknzGytmb1qZk+a2UnF4/PN7Jmy4x8sHn8LcC3wdjPb\nbmbbzGwOcB7wueKxHxfvO8rMbjOzLWb2JzO7pOy8XzKzZWb2fTN7BZjVOfhiK/9aM7u7GMcKM/ur\nrp6omb3BzP6jeK5nzeyfzayhq3jr89KKZI8SuUh4/hvYY2Y3mdl7zezQ8h+a2YeBLwEXAAcD04Gt\nxR8/Q6H1/gbgy8D3zewId18LXAQ86O4Hufsh7n4dcDPw9eKxvzWzBuDHwCPAaOB04NNmdlZZCO8H\nlgGHFH+/K+cB/ws4HFizn/tdU4z1r4Epxec0u6t49/+SieSXErlIYNz9FeBUwIHvAlvM7E4zG1G8\ny8cpJN//8oI/uPuzxd/9gbs/7+573f1W4PfAW3tw+lOAYe7+FXdvc/c/FmOYWXafB939juI5Wrt5\nnLvcfaW77wK+QKFl/cbyO5hZn+LjXuHur7r7OuD/Auf3IF6R3FMiFwmQu69191nuPgaYAIwC/rX4\n4zdSaHnvw8wuMLM1xdL5tuLvHt6DU/8VMKr0+8XH+B/AiLL7/LmKx2m/j7tvB14qPodyhwP9gGfL\njj1LoRIgIlXSYDeRwLn7U2a2CPhk8dCfgSM736/YD/1dCuXwB919j5mtAaz0UF09fKfbfwb+5O5H\n7S+kKsJub32b2UHAYcDzne7zIrCbwsXDk8VjY4ENPTiPSO6pRS4SGDM7xswuN7MxxdtvBD4KrCre\n5XvAZ8zsZCt4UzGJD6aQ/LYUf282hRZ5ySZgjJk1djr212W3fwu8amafN7OBZtbHzCb0Yurb+4pT\n6Bop9JWvcveKlry776EwKv9fzGxI8TnMA76/n3hFpBMlcpHwvAq8DXjIzHZQSOCPA5dDoR8c+Bfg\nluJ97wAOc/cnKfQxP0ghCR4P3F/2uL8CngA2mtmLxWPXA8cWy+h3FJPr2UAT8CcKrebvURiQ1hO3\nAFdSKKmfDPx9N/e7GNgB/BG4r/h7N+wnXhHpxNxVvRKR+il2A6x3939OOhaRPFCLXEREJMWUyEVE\nRFJMpXUREZEUU4tcREQkxZTIRUREUiwVC8IcfvjhPm7cuKTDEBERicXq1atfdPdh1dw3FYl83Lhx\ntLS0JB2GiIhILMzs2QPfq0CldRERkRRTIhcREUkxJXIREZEUS0UfuYiI1Mfu3btZv349r732WtKh\nCDBgwADGjBlDv379ev0YSuQiIjmyfv16hgwZwrhx4zCzA/+CRMbd2bp1K+vXr2f8+PG9fpzISutm\ndoOZbTazx8uOHWZmd5vZ74tfD43q/CIisq/XXnuNoUOHKokHwMwYOnRozdWRKPvIFwFTOx2bD/zS\n3Y8Cflm8LSIiMVISD0c9/haRJXJ3X0lhL+Jy7wduKn5/E/CBqM4vIiJhMjMuv/zy9ttXXXUVX/rS\nl/b7O3fccQdPPvlkTecdN24cL75Y/db2d955JwsWLOjy/IsWLeL555/v0fnXrVvHhAkTevQ71Yh7\n1PoId3+h+P1GYER3dzSzOWbWYmYtW7ZsiSc6ERGp1HljrTpstNW/f39uv/32HiXVeiTynpo+fTrz\n58/v8vy9SeRRSWz6mRe2Xev2HeHu17l7s7s3DxtW1Sp1yYrgzS4ikqjlS+COGzo+z9wLt5cvqelh\n+/bty5w5c/jmN7+5z8/WrVvHaaedxgknnMDpp5/Oc889xwMPPMCdd97JZz/7WZqamnjmmWcqfufH\nP/4xb3vb2zjxxBM544wz2LRpEwBbt27lzDPP5LjjjuPjH/84pd0+161bxzHHHMOsWbN485vfzHnn\nncc999zDO9/5To466ih++9vfAoVk/alPfWqf83/ta1+jpaWF8847j6amJlpbW1m9ejVTpkzh5JNP\n5qyzzuKFFwpt1tWrVzNx4kQmTpzIwoULa3rduhN3It9kZkcAFL9ujvn80YjozS4ikhh3aN0BK+/q\n+Hy744bC7dYdNTdW5s6dy80338zLL79ccfziiy/mYx/7GI8++ijnnXcel1xyCe94xzuYPn063/jG\nN1izZg1HHnlkxe+ceuqprFq1it/97nfMnDmTr3/96wB8+ctf5tRTT+WJJ57ggx/8IM8991z77/zh\nD3/g8ssv56mnnuKpp57illtu4b777uOqq67iq1/9asXjdz7/5z//eZqbm7n55ptZs2YNffv25eKL\nL2bZsmWsXr2aCy+8kC984QsAzJ49m2uuuYZHHnmkptdrf+KefnYn8DFgQfHrj2I+f/2Vv9kBPnBh\nx5t98rTCzzWwRETSxqzweQaFz7PSZ9zkaYXjNX6uHXzwwVxwwQV8+9vfZuDAge3HH3zwQW6//XYA\nzj//fD73uc8d8LHWr1/PRz7yEV544QXa2trap3KtXLmy/bGmTZvGoYd2TJQaP348xx9/PADHHXcc\np59+OmbG8ccfz7p163r0XJ5++mkef/xx3vOe9wCwZ88ejjjiCLZt28a2bduYPHly+/P52c9+1qPH\nrkZkidzMFgN/AxxuZuuBKykk8KVm9g/As8CMqM4fm4jf7CIiiSl9vpU+16Cun2uf/vSnOemkk5g9\ne3ZNj3PxxRczb948pk+fzr333nvAgXNQ6KcvaWhoaL/d0NDA66+/3qPzuzvHHXccDz74YMXxbdu2\n9ehxeivKUesfdfcj3L2fu49x9+vdfau7n+7uR7n7Ge7eeVR7OpUn8xIlcRFJu1I5vVx5N2KNDjvs\nMGbMmMH111/ffuwd73gHS5YUuiVvvvlm3vWudwEwZMgQXn311S4f5+WXX2b06NEA3HTTTe3HJ0+e\nzC233ALAz372M/7yl7/0OtbO5y+/ffTRR7Nly5b2RL57926eeOIJDjnkEA455BDuu+++9ucTBa21\nXg8Rv9lFRGJX3ic+eRpcfVvha3mfeR1cfvnlFaPXr7nmGm688UZOOOEE/vM//5NvfetbAMycOZNv\nfOMbnHjiifsMdvvSl77Ehz/8YU4++WQOP/zw9uNXXnklK1eu5LjjjuP2229n7NixvY6z8/lnzZrF\nRRddRFNTE3v27GHZsmV8/vOfZ+LEiTQ1NfHAAw8AcOONNzJ37lyampraB9vVm0X1wPXU3Nzswe5H\n3vnN3rmPXC1zkX2sYgVLWcRGNjCS0cxgFpOYknRYubB27Vre8pa3VHfn5UsKY4BKn2Olz7uBg2Hq\nzGgDzZGu/iZmttrdm6v5fa21Xiuzwpu6PGmXyuwDByeexPWBKaFZxQoWsoAGGhjEYLaymYUUFt3Q\nezMwU2dWDtgtfb6pcRIUJfJ6CPTNrg9MCdFSFtFAA40UBhc10p82drGURXpfhqjz55iSeHDUR14v\nAb7Zyz8wDaOR/jTQwFIWJR2a5NhGNtCPxopj/WhkE2GskiWSNmqRZ9hGNjCIwRXH9IGZbWnoShnJ\naLayub1FDrCbNkYwKsGo6iMNr79kjxJ5hmX5A1P2TRoTaeYefhJ8V8oMZrGQBbSxi340sps29rKX\nGcxKOrSaqCtLkqLSeobNYBZ72Usbu3CcNnZl4gNTOpLGVja3J43b+E92szv4rpRJTGEu8xnKcFrZ\nyVCGM5f5vUp2q1jBPGZzLmcyj9msYkUEEVdHXVmSFCXyDKvnB6aEpauksYe9tLKj4n6hdqVMYgpX\ncyM383Ou5sZeJ/HOFzMLWZBYMlfff8/ccccdmBlPPfVUlz+fNWsWy5Ytq/rxnn/+eT70oQ8BsGbN\nGn7605+2/+zee+9tn9fdEz3d9jQpSuTVSunuZvX4wJTwdJU0+tKX16lcWjLLXSmhtYBHMprdtFUc\ny/LrX6vFixdz6qmnsnjx4ro83qhRo9oTf70SeVookVdDu5tJYLpKGgMZSB/65KYrJbQWcFa7sqLo\nvti+fTv33Xcf119/fftyrO7Opz71KY4++mjOOOMMNm/u2Bxz3LhxXHHFFTQ1NdHc3MzDDz/MWWed\nxZFHHsm1114LFLYmnTBhAm1tbXzxi1/k1ltvbd9y9Nprr+Wb3/wmTU1N/OY3v2HLli2cc845nHLK\nKZxyyincf//9QPfbnoZOg90ORLubSYC6GjDWj0bO4e94hBY28TwjGJXpUdOhDeYsvc5LWZSZ1z+q\nAXw/+tGPmDp1Km9+85sZOnQoq1ev5tlnn+Xpp5/mySefZNOmTRx77LFceGHHHhZjx45lzZo1XHbZ\nZcyaNYv777+f1157jQkTJnDRRRe136+xsZGvfOUrtLS08G//9m8AtLa2ctBBB/GZz3wGgHPPPZfL\nLruMU089leeee46zzjqLtWvXtm97+sUvfpG77rqrYg34kCmRH4h2N5MAZTFp9FSIo98nMSVTf4Oo\nFu9ZvHgxl156KVBYw3zx4sW8/vrrfPSjH6VPnz6MGjWK0047reJ3pk+fDsDxxx/P9u3bGTJkCEOG\nDKF///493mXsnnvu4cknn2y//corr7B9+/b9bnsaMiXyakS8lZ9Ib2QtafSULmaiF8VaFC+99BK/\n+tWveOyxxzAz9uzZg5nxwQ9+cL+/V77NaOctSHu67ejevXtZtWoVAwYM6PkTCJD6yKuh3c1EgqTB\nnNGKYgDfsmXLOP/883n22WdZt24df/7znxk/fjxDhw7l1ltvZc+ePbzwwgv8+te/7vU59rflKMCZ\nZ57JNddc0357zZo1QH23PY2TEvmBxLSVn4hIaKIYwLd48eJ9Wt/nnHMOL7zwAkcddRTHHnssF1xw\nAW9/+9t7fY53v/vdPPnkkzQ1NXHrrbfyt3/7t/zwhz9sH+z27W9/m5aWFk444QSOPfbY9gFz9dz2\nNE7axrQa2spPRDKiR9uY0rGCoLovoqNtTOMQ6O5mIiJRy/tYjDRQab1aAe5uJiIiokQuIiKSYkrk\nIiI5k4axUXlRj7+FErmISI4MGDCArVu3KpkHwN3ZunVrzfPZNdhNRILTea91jZSunzFjxrB+/Xq2\nbNmSdChC4cJqzJgxNT2GErmIBCWq9b2loF+/fowfPz7pMKSOVFoXkaCEtj2pSOjUIheRoESxvndI\n1G0g9aYWuYgEJYr1vUNR6jbYyuaKboN67PEt+aVELiJBiWJ971Co20CioNK6iAQly9uTZr3bQJKh\nRC4iwcnq+t4jGc1WNtNIx37aWek2kOSotC4iEpNSt8GrvMxmNvI86/kLW5lIVZtciXRJiVxEJCaT\nmMIZnM1OdvA6u+lLHwZxEPfwEw14k15TaV1Eci/OKWGP0MKhDK0or7exi6UsymR3gkRPiVxEci3u\nleQ04E3qLZHSupldamaPm9kTZvbpJGIQEYH4p4RleZ68JCP2RG5mE4BPAG8FJgJnm9mb4o5DRAQK\nLeR+NFYci7KFnOV58pKMJErrbwEecvedAGa2Avg74OsJxCIiOVTeJ/4arexlD0N4Q/vPo2whZ3me\nvCQjiUT+OPAvZjYUaAXeB7R0vpOZzQHmAIwdOzbWAEUkuzr3iRemg70CwEEczG7aIm8hZ3WevCQj\n9kTu7mvN7GvAL4AdwBpgTxf3uw64DqC5udljDVJyTxtbZFd5nzjAEA4GCiPHW9mpFrKkTiKj1t39\neuB6ADP7KrA+iThEuqL9sLOtq1HjBzGEVvpwMz9PKCqR3ktq1Prw4texFPrHb0kiDpGuaGOLbNOo\n8TCsYgXzmM25nMk8ZmtBnBokNY/8tmIf+W5grrtvSygOSVCo5WvN8822GcxiIQtoYxf9aIylT1wq\nqepVX0mV1t+VxHklHCH/R9bGFtmmUePJ6zxOoZH+Wt2uBlrZTRIR8n9ktdiyT6PGk6WqV30pkUsi\nQv6PrBabSLRU9aovJXJJROj/kdViy69Qx26kUXevpape9aVELonQf2QJUchjN9KmmtdSVa/6UCIX\nIP5WiP4jS4hCHruRNgd6LVX1qh8lckmsFaL/yBKakMdupE2aXsu0d6cksiCMhEULoIgUaLGY+knL\na1lqyGxlc0VDJk0L1CiRS+zbOErPaAWs+GiL0fpJy2uZhYaMSusS/AjyPNPgq3hp7Eb9pOW1TFMX\nQHeUyEUjyAOmwVfx09iN+knDa5mFhowSuaTmyjmPstBaCH0gUejxSbSy0JBRIhcgHVfOeZT21kLo\nXQOhxyfRy0JDRolcJGBpby2E3jUQenwSj7Q3ZJTIRQKW9tZC6F0DoccnUg0lcpHApbm1EFrXQOf+\n8MEcRBu7golPpDc0j1xEIhPSXOKuFv54hW200hpEfCK9pRa5iEQmpK6BrvrDC18HMISDE49PpLeU\nyEUkUqF0DXTXH76T7XyX2xKKSqR2Kq2LSC6kZe1vkZ5SIheRXAipv16knlRaF5FcCKm/XqSelMhF\nJDdC6a8XqSeV1kVERFJMiVxERCTFlMhFRERSTIlcREQkxZTIRUREUkyJXEREJMWUyEVERFJMiVxE\nRCTFlMhFRERSTCu7ieTcKlawlEVsZAMjGa1lS0VSRolcJMdWsYKFLKCBBgYxmK1sZiELAJTMRVJC\npXWRHFvKIhpooJH+GEYj/WmggaUsSjo0EalSIonczC4zsyfM7HEzW2xmA5KIQyTvNrKBfjRWHOtH\nI5t4PqGIRKSnYk/kZjYauARodvcJQB9gZtxxiAiMZDS7aas4tps2RjAqoYhEpKeSKq33BQaaWV9g\nEOjyXyQJM5jFXvbSxi4cp41d7GUvM5iVdGgiUqXYB7u5+wYzuwp4DmgFfuHuv4g7DhHpGNC2lEVs\n4nlGMEqj1kVSJvZEbmaHAu8HxgPbgB+Y2d+7+/c73W8OMAdg7NixcYcpkhuTmKLELZJiSZTWzwD+\n5O5b3H03cDvwjs53cvfr3L3Z3ZuHDRsWe5C54r7/2yIiEqwkEvlzwCQzG2RmBpwOrE0gDgFYvgTu\nuKEjebsXbi9fkmxcIiJSldgTubs/BCwDHgYeK8ZwXdxxCIWk3boDVt7VkczvuKFwu3WHWuYSnFWs\nYB6zOZczmcdsVrEi6ZBEEmeegg/r5uZmb2lpSTqMnnEHs+5vh6I8eZdMngYfuDDMeCW3yleh60cj\nu2ljL3uZy3z18UvmmNlqd2+u5r5a2S0KaSpXmxWSdjkl8dxIUwtXq9CJdE2JvN7SVq4uxVeu/CJE\nMqvUwt3K5op11kNN5lqFTqRr2jSl3spbuCvv6ihZh1iuLr/IKMVXXmYPLV6pq/IWLkAj/WljF0tZ\nFGSpeiSj2crm9nhBq9CJgFrk0UhLudoMBg6uvMj4wIWF2wMHhxev1FXaWrhahU6ka2qRR6G7cnWI\nyXzqzMqBeKVkHlqcUndpa+FqFTqBQpfQUhaxkQ2MZLTeAyiR118ay9Wd4wktPonEDGaxkAW0sati\nFHjILVytQpdv5TMXysd1ALl+XyiR11t35WpQuVqCohaupE3axnXERYk8CipXS0qohRs+lZI7bGQD\ngxhccSzkcR1x0WC3qMRdrtZ66SKZk7YpglEbyWh201ZxLORxHXFRIs+CNC1AIyJV0yI4lTRzoWsq\nradd+QI0UDm4bvK0cJeGraMslB6z8Byk/lRKrqRxHV1TIq+nJNZXT9MCNBHIwijWLDwHiUbapgjG\nQeM69qXSer0kWd5OywI0EchC6TELz0Eq1WsNe5WSpRpK5PWQ9PrqOV4vPW2rk3UlC89BOtRzgNok\npjCX+QxlOK3sZCjDtdub7EOl9XpIsrydxgVo6igLpccsPAfpUO+5zioly4GoRV4vSZW3c75eehZK\nj1l4DtJBFRaJm1rk9ZLk+uo5XoAmC6NYs/AcpIMqLBI38xT0ozY3N3tLS0vSYXRvf+XtnIweF5GC\n8lkI5WvYz2U+gKYZSlXMbLW7N1dzX7XI60Hrq4tIUXcVFkDTDCUSapHXUxLzyEUkFeYxe5+Sexu7\nGMpwrubGBCOTEPWkRa7BbvWk7UBFpBsaBCdRUSJPgjY4EckdbfghUVEij5s2OJFeqtdqYZIMTTOU\nqGiwW5y0wYn0UnfrsT/N4zxCi0ZBp4CmGUpUNNgtbuVT1Uo0RU0OoKuBUq/yCjvZzqEM3Weak5KD\nSLppsFvIcrzBifReVwOlWtnBHvZqsxWRmIXWzaVEHrccb3AivdfVQKnXeZ2+nXrHNApaJFr13BSn\nXpTI49R5Bbirbyt8Ld81TaQLXQ2U6kMfBjKw4n4aBS0SrRC3HdZgtzhpBTjppa4GSp3G+7iHn9DG\nroo+co2CFonORjYwiMEVx5KuhB0wkZvZm4HvACPcfYKZnQBMd/f/HXl0WRTXBidaZS5zutrO8mgm\naBS0SIxC3BSnmhb5d4HPAv8O4O6PmtktgBJ5b0W9AtzyJYVpbqULhFJJf+DgwoWEZIb2qhaJ1wxm\nsZAFQVXCqukjH+Tuv+107PUogpE6KJ+rXup3L/XLt+5QP7yISA0mMYW5zGcow2llJ0MZnviUz2pa\n5C+a2ZGAA5jZh4AXIo1Keq+8333lXR3z1TVXXUSkLkKrhFWTyOcC1wHHmNkG4E/AeZFGJbUpJfPy\nRWeUxEVqtooV2k9cgrPf0rqZNQDN7n4GMAw4xt1Pdfdne3tCMzvazNaU/XvFzD7d28eTLmiuukjd\nhTh/WAQOkMjdfS/wueL3O9z91VpP6O5Pu3uTuzcBJwM7gR/W+rhSpLnqQngrT2VBiPOHRaC60vo9\nZvYZ4FZgR+mgu79Uh/OfDjxTSwtfOtFc9dzrboMVINdl4FrL4iHOH06SuhnCUU0i/0jx69yyYw78\ndR3OPxNYXIfHkXJxzVVPmbx88JS3HAEa6U8bu1jKokw+32rU4+ImxPnDSdHFYlgOOP3M3cd38a/m\nJG5mjcB04Afd/HyOmbWYWcuWLVtqPV3+RD1XPWXy1L/Z1QYreW45Qn3K4tpPvIO6GcJywERuZv3M\n7BIzW1b89ykz61eHc78XeNjdN3X1Q3e/zt2b3b152LBhdTid5FmePni62mAlry3Hknpc3HQ1f/gM\nzmYpi3I3FkEXi2GpprT+HaAf8P+Kt88vHvt4jef+KCqrS0zy1L8Z4spTSatXWbx8/nCey8tZ62ao\nptst5K65alZ2O8XdP+buvyr+mw2cUstJzWww8B7g9loeR6RaeWqlhrjyVNKiKIvnqcrTWZa6Garp\ndgu9a66aFvkeMzvS3Z8BMLO/BvbUclJ33wEMreUxRHoib63U0FaeSlpXu8fV2qLKU5Wnsyhez6RU\nMzg09AGk1STyzwK/NrM/Agb8FTA70qhE6ixLHzzSO/W+uMlaebmnsnKxWM0FWegXbQdM5O7+SzM7\nCji6eOhpd98VbVgi9ZeVDx4JQ96qPFlVzQVZ6Bdt1YxanwsMdPdH3f1RYJCZ/VP0oYmIhEtjEbKh\nmv7+0McEmB9gyU4zW1NcTrX82O/c/cRIIyvT3NzsLS0tcZ1ORERypDQifX/dbtXcp57MbLW7N1dz\n32r6yPuYmXkx45tZH+g0gVBERCSlqul2C7lrrppEvhy41cz+vXj7k8VjIiIikrBqEvnngTnAPxZv\n3w18L7KIJF3K13Tv6raIiESqmlHre4FrgWvN7DBgjLvXNI9cMmL5Emjd0bEhS2kL1YGDCxu3SK6E\nvPKVSJZVM2r9XjM7uJjEVwPfNbNvRh+aBM29kMTL9zkv7YPeukP7nudM6CtfiWRZNaX1N7j7K2b2\nceA/3P1KM3s06sAkcOX7nK+8q/APKvdBl9wIfeUrkSyrZq31vmZ2BDAD+EnE8UialCfzEiXxXNJu\nWAKFysw8ZuduN7ikVZPIvwL8HPiDu/9Xca3130cblqRCqZxerlRml1zJ06Y00rW4u1d00dDhgInc\n3X/g7ie4+z8Vb//R3c+JPjQJWnmf+ORpcPVtha/lfeaSG6GvfCXRi3M3OI3JqFRNH7mEKOlpX2aF\n0enlfeKlMvvAwSqv54w2pZE4NxbRmIxKSuRpFMq0r6kzKy8gSsk8B0lcU632FfLKVxK9ODcWCX03\nsrhV00cuIQlt2lfnpJ2TJK6ynkilOLtXNCaj0n4TuZkdY2anm9lBnY5PjTYs6Vap1Vvqj553Tkc/\ndU5aw0mLsy9QJC3i3A1OYzIqdVtaN7NLgLnAWuB6M7vU3X9U/PFX0XrrySkl89LcbVASj5HKeiJd\ni6t7RWMyKu2vj/wTwMnuvt3MxgHLzGycu38LUMZIUnfTvpTMYxFnX6CIdE1jMjrsr7Te4O7bAdx9\nHfA3wHvN7GqUyJOjaV+JU1lPREKyvxb5JjNrcvc1AMWW+dnADcDxsUQn+9K0r8SprCciITHvpgVn\nZmOA1919Yxc/e6e73x91cCXNzc3e0tIS1+nSIel55Gmk10xEUsLMVrt7czX37ba07u7ru0rixZ/F\nlsSlGzmc9lWT5Usqux5KXRTLlyQbl4hIjTSPXLIvtLn3IiJ1pJXdJPu05aqIZFjVLXIzO9jMDiv9\nizIokbrTlqsiklEHTORm9kkz2wg8Cqwu/tPIM0kXbbkqIhlVTWn9M8AEd38x6mBEItF57v0HLuy4\nDWqZi0iqVZPInwF2Rh2ISGQ0915EMqyaRH4F8ICZPQTsKh1090sii0qk3nK85aqIZFs1ifzfgV8B\njwF7ow1HJEKaey8iGVRNIu/n7vMij0QkDlrdrW5WsYKlLGIjGxjJaC1TK5kW8vu9mkT+MzObA/yY\nytL6S5GlJWKzAAAXAElEQVRFJRKF5UsKC8CUSuqlQXADBxdK71K1VaxgIQtooIFBDGYrm1nIAoBg\nPtxE6iX093s188g/SrGfHE0/q07nKU2a4pQ8re5WV0tZRAMNNNIfw2ikPw00sJRFSYcmUnehv98P\n2CJ39/FxBJIZavWFSau71dVGNjCIwRXH+tHIJp5PKCKR6IT+fq9qZTczm2BmM8zsgtK/Wk5qZoeY\n2TIze8rM1prZ22t5vGCo1Re9WqodWt2tbkYymt20VRzbTRsjGJVQRCLRCf39Xs3KblcC1xT/vRv4\nOjC9xvN+C1ju7scAE4G1NT5eGEqJYvK0QvKed07lIiRKGLWpdQczre5WNzOYxV720sYuHKeNXexl\nLzOYlXRoInUX+vu9mhb5h4DTgY3uPptC4n1Db09oZm8AJgPXA7h7m7tv6+3jBUetvmjUWu3ovLrb\n1bd1XHBFmMxXsYJ5zOZczmQes1nFikjOE7dJTGEu8xnKcFrZyVCGM5f5QQz8Eam30N/v1Yxab3X3\nvWb2upkdDGwG3ljDOccDW4AbzWwihcFzl7r7jvI7FUfKzwEYO3ZsDaeLWXetPiXz2tTax53A6m6h\nj3St1SSmZOJ5iFQj5Pd7NS3yFjM7BPguhaT7MPBgDefsC5wEfMfdTwR2APM738ndr3P3ZndvHjZs\nWA2ni1FCrb7cqLXaMXVm5f1LjxfRIMTQR7qKSDZUM2r9n4rfXmtmy4GD3f3RGs65Hljv7g8Vby+j\ni0SeSlrTO1r1qHbEuLpb6CNdRSQbDpjIzewf3L3Un73OzPqY2ZXu/uXenNDdN5rZn83saHd/mkL/\n+5O9eawgaU3vaKRwB7ORjGYrm2mkf/uxkEa6ikg2VFNaP93MfmpmR5jZccAqYEiN570YuNnMHgWa\ngK/W+Hhh0Zre9dddtWPytGCrHaGPdBWRbDCvot/WzD4CLKTQn32uu98fdWDlmpubvaVFi8kJqVsr\nvbQ+8yaeZwSjglqfWUTCZWar3b25mvtWU1o/CrgUuA14C3C+mf3O3bVHucQvZdWOkEe6ikg2VFNa\n/zHwP939k8AU4PfAf0UalYiIiFSlmnnkb3X3VwC8UIf/v2b242jDEhERkWp02yI3s88BuPsrZvbh\nTj+eFWVQIiIiUp39ldbLV8m4otPPpkYQi4iIRCSrywXL/kvr1s33Xd0WEZFAZX254LzbX4vcu/m+\nq9uSd7VsLyoikdJywdm2vxb5RDN7hULre2Dxe4q3B0QemaTH8iWFHchKC7WUVmEbODiydcxFpENp\nvYKNbGAko/dZr0DLBWdbty1yd+/j7ge7+xB371v8vnS7X5xBSsBq3V5URGpSKptvZXNF2by8D3wk\no9lNW8Xvabng7KhmHrlI98qXSl15F8w7p3I99MAXbBFJu2rK5louONuUyKV2tW4vKiK9tpEN9KOx\n4ljnsvkkpjCX+QxlOK3sZCjDmct8DXTLiGoWhBHZv3psLyoivVLtLntaLji71CKX2nTeXvTq2zrK\n7KU+cxGJjMrmoha51Ka77UUh2O1FRbKk1MrWLnv5VdU2pknTNqYpkLLtRUVEQtaTbUxVWpf6SNn2\noiIiWaFELiIikmJK5CIiIimmRC4iIpJiSuQiIiIppkQuIiKSYkrkIiIiKaZELiIikmJa2U1EYnWg\nvbNFpGeUyEUORKvW1U1p7+wGGir2zgaUzEV6SaV1CV/nZYTjXFZ4+ZLKzV9Km8QsXxJfDD2V5Ot1\nANXsnS0iPaNELmFLMpG6Q+uOyp3cSju9te4IKkG2C/zCo5q9s0WkZ1Ral3CVJ1Io7KpWvmVq1CXu\n8p3cVt7VEUf5Tm8hSfr1qkK1e2eLSPWUyCVcISTSUgylc0OYSRzCeL0OYAazWMgC2thFPxrZTZv2\nzhapkUrrErby5FQSZ1IqlabLlZeuQ5P063UAk5jCXOYzlOG0spOhDGcu8zXQTaQGapFL2LpLpHEk\np/I+8VKrtnQbgkqQ7ZJ8vao0iSlK3CJ1pEQu4Uo6kZrBwMGVpelSa3fg4GASY7ukXy8RSYQSuYQr\nhEQ6dWblILFSDKEmxPLXC8K+8BCRulAil7CFkEg7nyvEhLh8SWHEenn/+B03FBJ4yBceIlKzRAa7\nmdk6M3vMzNaYWUsSMUiK7C+RBrz4SWw6z3eHyvnuIpJpSbbI3+3uL8Z+Vi23mR3lrVCzjj7igYML\nLfm8SMG0MxGJTr6mnwW+6pX0QBpXXYtS4NPORCQ6SSVyB+4xs9VmNieeM+qDP1NKiWvytMLfcN45\nlaO185bA0jbfXUTqJqnS+qnuvsHMhgN3m9lT7r6y/A7FBD8HYOzYsbWfUeXH7EnTqmtR0rQzkVxL\npEXu7huKXzcDPwTe2sV9rnP3ZndvHjZsWH1OrPJjtuyvFZqnlmh30/QmT9O0M5EciL1FbmaDgQZ3\nf7X4/ZnAV2I5eQpWvZIqlbdCR46FoyYAVrjtAA6DDsrPoLcQpumJSCKSaJGPAO4zs0eA3wJ3ufvy\nyM/aufx49W0d/avqS0yfUiv0XdMKSfw3PwW8cPv3jxVu523sQxrmu4tI3cXeInf3PwIT4z5vEKuE\nSX2VWqFQ+PutvKujVaqxD5IDq1jBUhaxkQ2MZDQzmKV17HPIPAUtlubmZm9pqdO6MZpHnk3uhZHr\nJVffpr+rZNoqVrCQBTTQULElrHaTywYzW+3uzdXcN1/zyEHlxyzS1CvJoaUsooEGGumPYTTSnwYa\nWMqipEOTmGmtdUk3Tb2SGIRYwt7IBgYxuOJYPxrZxPMJRSRJUSKPi0r60dDYB4lYeQl7EIPZymYW\nsgAg0WQ+ktFsZTON9G8/tps2RjAqsZgkGfkrrSdBS8NGa+rMypZ3KZmXD4YrUbldeijUEvYMZrGX\nvbSxC8dpYxd72csMZiUal8RPiTxqWho2Hl2NfdAFVHIydAG1kQ30o7HiWAgl7ElMYS7zGcpwWtnJ\nUIZroFtOqbQeNS0Nm4zyCyio7DufPE1dG1FKya501fZ7h1zCnsQUJW5RizwWWho2ftpUJRkpqUCV\n+r23srmi33sVK/a5r0rYEjol8jhoelQydAEVv5RcQPWk31slbAmdSutR0/So+JXK5qXXvryMrrX1\no5eCXel6OnVLJWwJmRJ51DQ9Kl6l/tn3z4Yf3QgrfgLDjoCTJsNrO3QBFYcUbE4Ucr+39EyIc/zj\npkQeB+1MFY/OA9wGDCok8Rc3FpL4+2cXjusCKjopqUDNYBYLWUAbuyqWN1W/d7qEOsc/bkrkcdHS\nsNHrPEOgpHM1RK99dFJSgSp9yC9lEZt4nhGMymVLLgpxtpDLxzoANNKfNnaxlEW5+lvmb9MUyT5t\noJI8rWSYS3Fv5HIuZzKIwRgd7y3HaWUnN/Pzup8vTto0RfJLMwTCoApUt1axgnnM5lzOZB6zu5zy\nllZxr4I3ktHspq3iWB7HOiiRS3Z07p+9+raOaVBK5hKAnsxfT6O4V8HTHP8C9ZHXm0qKyUlJ/6zk\nV9b7dOOeDaCxDgX5TORRJduULE2ZaZohIAHL+tajScwG0Bz/PJbWo9pIIyVLU+aC+mclUFnv09Uq\neMnIV4s8yo00tDmKiBxAHuavq4Ucv3wl8lqT7YFK8ilYmlJEkhNHn25oK52FFk8W5SuRQ++TbTX9\n3ylYmlJEkhVlizW0lc5Ciyer8tdH3pt5xtX0f2vqk+Rd5/e43vP10YPXNe553AcSWjxZla8WeW/X\nga62JK+pTxKlkKc2asZGNHr4uoY2Kj60eLIqXy3y7uYZT5524GRbzd7WU2dWHiv9jj7IpFZRzbao\nB83YiEYvXtfQRsWHFk9W5atFDr2fZ1xt/7emPkm9RTnboh40YyMavXhdQxsVH1o8WZW/RA49T7Yp\n2ZpRMioNiVIzNqLRw9c1tJXOQosnq/KZyHtKS39K0kJPlGmbsRHyeINyvXhdQ5vHHVo8WaREXi0t\n/SlJCjlRpq1ilZaBeWl7XSUxSuQ9of5vSUKIH+idL2oHDEpHxSr08QblVAmUKimRi4QutA/0rlq0\nr+2EAYPDr1ilYbxBOVUCpQpK5CJpEMoHek9atKEmm9DHG4j0kBK5SFqE0LWTthZtV0Ieb9BZWvrz\nJVH5WhBGRGpXzeJIoUrTUspaaEeqlFiL3Mz6AC3ABnc/O6k4RKSH0tSi7Sy08Qb7k4Xqh8QiydL6\npcBa4OAEYxCRnghxBH1PhTLeoBrqz5cqJFJaN7MxwDTge0mcX0R6qZb9CkISwniDavRmt0bJnaRa\n5P8KfA4YktD5ReovLauF1SpNLdo0y0L1Q2IReyI3s7OBze6+2sz+Zj/3mwPMARg7dmxM0Yn0Ut5G\nF6elRZtmaerPl0Ql0SJ/JzDdzN4HDAAONrPvu/vfl9/J3a8DrgNobm5WHUnClabVwiRd8l79yEuV\nq0axJ3J3vwK4AqDYIv9M5yQukioaXSxRymv1I29VrhpoHrlIPaR5brVIaDSHvkcSXdnN3e8F7k0y\nBpG6SPPcapHQ1KPKlaOyvFrkIrVK02phImlRS5Vr+ZLK/3ul/6PLl9Q/zgAokYvUKitzq0VC0ts5\n9Dksy2vTFJF6yPvoYpF6qmUOfQ4Hn6pFLlIveR1dLFJvtVa5cjb4VC1yEREJTy1VrpwNPlWLXERE\nwtSbKlcOB5+qRS4iItmRw6VtlchFRCRbcjb4VKV1ERHJnhwNPlUiFxERSTElcpHe6DxgJoMDaEQk\nHZTIRXoqZ8s/ikjYlMhFeiKHyz+KSNg0al2kJ3K4/KOIhE0tcpGeytnyjyISNiVykZ7q7a5MIiIR\nUCIX6YkcLv8oImFTH7lIT+Rw+UcRCZsSuUhP5Wz5RxEJm0rrIr2Ro+UfRSRsSuQiIiIppkQuIiKS\nYkrkIiIiKaZELiIikmJK5CIiIimmRC4iIpJiSuQiIiIppkQuIiKSYkrkIiIiKaZELiIikmJK5CIi\nIimmRC4iIpJiSuQikk+d947XXvKSUkrkIpI/y5fAHTd0JG/3wu3lS5KNS6QXlMhFJF/coXUHrLyr\nI5nfcUPhdusOtcwldfrGfUIzGwCsBPoXz7/M3a+MOw4RySkz+MCFhe9X3lX4BzB5WuG49paXlEmi\nRb4LOM3dJwJNwFQzm5RAHCKSV+XJvERJXFIq9kTuBduLN/sV/6mWJSLxKZXTy5X3mYukSCJ95GbW\nx8zWAJuBu939oS7uM8fMWsysZcuWLfEHKSLZVN4nPnkaXH1b4Wt5n7lIiiSSyN19j7s3AWOAt5rZ\nhC7uc527N7t787Bhw+IPUkSyyQwGDq7sE//AhYXbAwervC6pE/tgt3Luvs3Mfg1MBR5PMhYRyZGp\nMwst71LSLiVzJXFJodhb5GY2zMwOKX4/EHgP8FTccYhIznVO2kriklJJtMiPAG4ysz4ULiSWuvtP\nEohDREQk9WJP5O7+KHBi3OcVERHJIq3sJiIikmJK5CIiIimmRC4iIpJiSuQiIiIppkQuIiKSYkrk\nIiIiKaZELiIikmLmKdggwMy2AM/W8SEPB16s4+OFSs8zO/LwHEHPM2vy8Dyjeo5/5e5VbTSSikRe\nb2bW4u7NSccRNT3P7MjDcwQ9z6zJw/MM4TmqtC4iIpJiSuQiIiIpltdEfl3SAcREzzM78vAcQc8z\na/LwPBN/jrnsIxcREcmKvLbIRUREMiFXidzMBpjZb83sETN7wsy+nHRMUTGzPmb2OzPL7F7vZrbO\nzB4zszVm1pJ0PFExs0PMbJmZPWVma83s7UnHVG9mdnTx71j694qZfTrpuOrNzC4rfvY8bmaLzWxA\n0jFFwcwuLT7HJ7L0dzSzG8xss5k9XnbsMDO728x+X/x6aNxx5SqRA7uA09x9ItAETDWzSQnHFJVL\ngbVJBxGDd7t7U9LTPyL2LWC5ux8DTCSDf1d3f7r4d2wCTgZ2Aj9MOKy6MrPRwCVAs7tPAPoAM5ON\nqv7MbALwCeCtFN6vZ5vZm5KNqm4WAVM7HZsP/NLdjwJ+Wbwdq1wlci/YXrzZr/gvc4MEzGwMMA34\nXtKxSG3M7A3AZOB6AHdvc/dtyUYVudOBZ9y9notAhaIvMNDM+gKDgOcTjicKbwEecved7v46sAL4\nu4Rjqgt3Xwm81Onw+4Gbit/fBHwg1qDIWSKH9pLzGmAzcLe7P5R0TBH4V+BzwN6kA4mYA/eY2Woz\nm5N0MBEZD2wBbix2lXzPzAYnHVTEZgKLkw6i3tx9A3AV8BzwAvCyu/8i2agi8TjwLjMbamaDgPcB\nb0w4piiNcPcXit9vBEbEHUDuErm77ymW78YAby2WgTLDzM4GNrv76qRjicGpxb/le4G5ZjY56YAi\n0Bc4CfiOu58I7CCB0l1czKwRmA78IOlY6q3Yd/p+Chdno4DBZvb3yUZVf+6+Fvga8AtgObAG2JNo\nUDHxwjSw2Ku8uUvkJcXy5K/Zt78j7d4JTDezdcAS4DQz+36yIUWj2MLB3TdT6E99a7IRRWI9sL6s\ncrSMQmLPqvcCD7v7pqQDicAZwJ/cfYu77wZuB96RcEyRcPfr3f1kd58M/AX476RjitAmMzsCoPh1\nc9wB5CqRm9kwMzuk+P1A4D3AU8lGVV/ufoW7j3H3cRRKlL9y98xd9ZvZYDMbUvoeOJNCSS9T3H0j\n8GczO7p46HTgyQRDitpHyWBZveg5YJKZDTIzo/C3zNzARQAzG178OpZC//gtyUYUqTuBjxW//xjw\no7gD6Bv3CRN2BHCTmfWhcBGz1N0zOz0r40YAPyx8HtIXuMXdlycbUmQuBm4ulp3/CMxOOJ5IFC/I\n3gN8MulYouDuD5nZMuBh4HXgdwSwKlhEbjOzocBuYG5WBmia2WLgb4DDzWw9cCWwAFhqZv9AYZfO\nGbHHpZXdRERE0itXpXUREZGsUSIXERFJMSVyERGRFFMiFxERSTElchERkRRTIhcJlJnt6bQjWGwr\nunW1y5OIhEnTz0QCZWbb3f2ghM49GdgO/Edxp644ztnH3XOxlKdIPalFLpIiZvYGM3u6tNJbcU/r\nTxS//46ZtRT3gP5y2e+sM7P/U9q33cxOMrOfm9kzZnZRV+fpZpenzrF8uLjn9CNmtrJ4rI+ZXVU8\n/qiZXVw8fnpx05fHiq39/mWxfc3MHgY+bGZHmtny4kY4vzGzY+rxuolkWd5WdhNJk4HFnfpK/o+7\n32pmnwIWmdm3gEPd/bvFn3/B3V8qrlz4SzM7wd0fLf7sOXdvMrNvUthT+Z3AAArL2l7by/i+CJzl\n7htKSx8Dc4BxQJO7v25mh5nZgOI5T3f3/zaz/wD+kcIufQBb3f0kADP7JXCRu//ezN4G/D/gtF7G\nJ5ILSuQi4Wot7u5Wwd3vNrMPAwuBiWU/mlHczrUvheWIjwVKifzO4tfHgIPc/VXgVTPbZWaH9HIJ\nzfspXFAspbABCBQ2Brm2uA81xQuLiRQ2CyltnHETMJeORH4rgJkdRGETkR8Ul94F6N+LuERyRYlc\nJGXMrAF4C7ATOBRYb2bjgc8Ap7j7X8xsEYUWd8mu4te9Zd+Xbvfqc8DdLyq2mqcBq83s5N48DoWt\nWaHQ1betq4sXEeme+shF0ucyCrtmnQvcaGb9gIMpJMSXzWwEhe1AI2VmR7r7Q+7+RWAL8EbgbuCT\nZta3eJ/DgKeBcWb2puKvng+s6Px47v4K8KditQErmNj5fiJSSYlcJFwDO00/W1Ac5PZx4HJ3/w2w\nEvhnd3+Ewm5aT1HYMvL+Wk5c3OXpQeBoM1tf3Nmps28UB689DjwAPAJ8j8J2nY+a2SPAue7+GoUd\n235gZo9RqAJ01y9/HvAPxd99Anh/Lc9DJA80/UxERCTF1CIXERFJMSVyERGRFFMiFxERSTElchER\nkRRTIhcREUkxJXIREZEUUyIXERFJMSVyERGRFPv/TFud3PHPrtkAAAAASUVORK5CYII=\n",
      "text/plain": [
       "<matplotlib.figure.Figure at 0x9bde208>"
      ]
     },
     "metadata": {},
     "output_type": "display_data"
    }
   ],
   "source": [
    "# save the code of plotting into a function for faster plotting later\n",
    "def plot_data(): \n",
    "    fig, ax = plt.subplots(1, 1, figsize = [8, 6])\n",
    "    # draw\n",
    "    ax.scatter(data.Exam1_score[data.Admitted == 0], data.Exam2_score[data.Admitted == 0], color='#FF5733', marker = 'x',\n",
    "                            alpha=0.85, label='Not admitted')\n",
    "    ax.scatter(data.Exam1_score[data.Admitted == 1], data.Exam2_score[data.Admitted == 1], color='#49FF33', marker = 'o',\n",
    "                            alpha=0.85, label='Admitted')\n",
    "    ax.set_xlabel('Exam 1 score')\n",
    "    ax.set_ylabel('Exam 2 score')\n",
    "    ax.set_title('Scatter plot')\n",
    "    ax.legend()\n",
    "    \n",
    "plot_data()"
   ]
  },
  {
   "cell_type": "code",
   "execution_count": 4,
   "metadata": {},
   "outputs": [
    {
     "name": "stdout",
     "output_type": "stream",
     "text": [
      "Shape of matrix X is (100, 2).\n",
      "X has 100 samples.\n",
      "X has 2 features.\n",
      "Shape of vector y is (100, 1).\n"
     ]
    }
   ],
   "source": [
    "# Separating X and y. Just run this cell\n",
    "X = data[['Exam1_score', 'Exam2_score']].values\n",
    "y = data['Admitted'].values\n",
    "\n",
    "print('Shape of matrix X is {}.'.format(X.shape))\n",
    "print('X has {} samples.'.format(X.shape[0]))\n",
    "print('X has {} features.'.format(X.shape[1]))\n",
    "\n",
    "y = y.reshape(-1, 1)\n",
    "\n",
    "print('Shape of vector y is {}.'.format(y.shape))"
   ]
  },
  {
   "cell_type": "markdown",
   "metadata": {},
   "source": [
    "Remember from the linreg exercise and the sides, that in order to neatly calculate $\\theta_0$ into $\\theta$, we add a column of 1s to the left of $X$, to be feature $x_0$? We do it with the following code:"
   ]
  },
  {
   "cell_type": "code",
   "execution_count": 5,
   "metadata": {
    "collapsed": true
   },
   "outputs": [],
   "source": [
    "# Don't forget to run this cell\n",
    "X = np.insert(X, 0, 1, axis=1)"
   ]
  },
  {
   "cell_type": "markdown",
   "metadata": {},
   "source": [
    "So now, technically, we can say $X$ has 3 features."
   ]
  },
  {
   "cell_type": "markdown",
   "metadata": {},
   "source": [
    "## 3 Logistic Regression\n",
    "\n",
    "Recall that in linear regression, we had a hypothesis $h_{\\theta}(x)$ which allowed us to predict any number.\n",
    "In binary classification, we would like to predict either $0$ or $1$.\n",
    "For this purpose we will design a function $h_{\\theta}(x)$ which will output a number from $0$ to $1$:\n",
    "- if $h_{\\theta}(x) \\geq 0.5$, predict \"$y = 1$\",\n",
    "- if $h_{\\theta}(x) < 0.5$, predict \"$y = 0$\"."
   ]
  },
  {
   "cell_type": "markdown",
   "metadata": {
    "collapsed": true
   },
   "source": [
    "*Quick summary of how we will do logistic regression from slides, step by step:*\n",
    "\n",
    "- We initialize the parameters ($\\theta$)\n",
    "\n",
    "- Use them to calculate the Cost\n",
    "\n",
    "- Calculate the gradient\n",
    " \n",
    "- Use the gradient to update parameters in order to reduce the cost\n",
    "\n",
    "- Keep doing it a lot of times (maybe 10000 times), to obtain the \"optimal\" theta."
   ]
  },
  {
   "cell_type": "markdown",
   "metadata": {},
   "source": [
    "### 3.1 Sigmoid function\n",
    "\n",
    "We first implement the \"sigmoid function\" that we will use later.\n",
    "It takes in a number and squishes it to be between $0$ and $1$.\n",
    "The sigmoid function has the following form:\n",
    "$$ \\mathrm{sigmoid}(z)=\\frac{1}{1+e^{−z}} $$"
   ]
  },
  {
   "cell_type": "code",
   "execution_count": 6,
   "metadata": {
    "collapsed": true
   },
   "outputs": [],
   "source": [
    "# finish the following code to finish the sigmoid function. for example, np.exp(2) is the code for e^2\n",
    "def sigmoid(z):\n",
    "    return 'write code here'"
   ]
  },
  {
   "cell_type": "code",
   "execution_count": null,
   "metadata": {
    "collapsed": true
   },
   "outputs": [],
   "source": [
    "# Just run this cell after you finish writing the sigmoid fuction above. It will plot the function\n",
    "z = np.arange(-10, 10, 0.1)\n",
    "fig, ax = plt.subplots(1, 1)\n",
    "ax.plot(z, sigmoid(z))\n",
    "ax.set_xlabel('$z$')\n",
    "ax.set_ylabel('sigmoid($z$)')\n",
    "ax.set_title('Sigmoid Function')\n",
    "ax.grid()"
   ]
  },
  {
   "cell_type": "code",
   "execution_count": 8,
   "metadata": {},
   "outputs": [
    {
     "data": {
      "image/png": "iVBORw0KGgoAAAANSUhEUgAAAYkAAAEWCAYAAACT7WsrAAAABHNCSVQICAgIfAhkiAAAAAlwSFlz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\n",
      "text/plain": [
       "<matplotlib.figure.Figure at 0x10f12fc50>"
      ]
     },
     "metadata": {},
     "output_type": "display_data"
    }
   ],
   "source": [
    "# Here is how it should looks like if you got that correctly. Do not run this cell"
   ]
  },
  {
   "cell_type": "code",
   "execution_count": 7,
   "metadata": {
    "collapsed": true
   },
   "outputs": [],
   "source": [
    "# Although, as a matter of fact, we can import the sigmoid function from scipy for better application later. \n",
    "# Just run this cell\n",
    "from scipy.special import expit as sigmoid"
   ]
  },
  {
   "cell_type": "markdown",
   "metadata": {},
   "source": [
    "*The maths below were already covered in the slides, but we repeat them here to help you review*"
   ]
  },
  {
   "cell_type": "markdown",
   "metadata": {},
   "source": [
    "### 3.2 Hypothesis Function\n",
    "\n",
    "Recall that in linear regression the output of the hypothesis function was $\\theta_0 + \\theta_1 x_1 + \\theta_2 x_2 + \\cdots + \\theta_n x_n$ where $x = (x_1, x_2, \\dotsc, x_n)$ is the input and $\\theta = (\\theta_0, \\theta_1, \\dotsc, \\theta_n)$ are the parameters.\n",
    "In logistic regression we slightly modify the hypothesis function to be\n",
    "\n",
    "\\begin{align}\n",
    "    z_{\\theta}(x) &= \\theta_0 + \\theta_1 x_1 + \\theta_2 x_2 + \\cdots + \\theta_n x_n = \\theta^T x && \\text{(linear function)}\\\\\n",
    "    h_{\\theta}(x) &= \\mathrm{sigmoid}(z_{\\theta}(x)) = \\mathrm{sigmoid}(\\theta^T x) && \\text{(using vector notation)} \\\\\n",
    "    &= \\frac{1}{1 + e^{-\\theta^T x}}. && \\text{(using the definition of the sigmoid function)}\n",
    "\\end{align}\n",
    "\n",
    "Since a sigmoid is a function whose output is between $0$ and $1$, $h_{\\theta}(x)$ will also output a number between $0$ and $1$ for a given input $x$.\n",
    "We can interpret the output of the hypothesis function $h_{\\theta}(x)$ to be the probability that $y = 1$ given $x$."
   ]
  },
  {
   "cell_type": "markdown",
   "metadata": {},
   "source": [
    "### 3.3 Cost Function\n",
    "\n",
    "Recall that in linear regression, the cost function was $J(\\theta) = \\frac{1}{m} \\sum_{i = 1}^m \\left(\\frac{1}{2} (h_{\\theta}(x^{(i)}) - y^{(i)})^2\\right)$.\n",
    "We can think of the term $\\frac{1}{2} (h_{\\theta}(x^{(i)}) - y^{(i)})^2$ as a measure of how close $h_{\\theta}(x^{(i)})$ is to $y^{(i)}$.\n",
    "This works well for linear regression where both $h_{\\theta}(x^{(i)})$ and $y^{(i)}$ can be any numbers.\n",
    "\n",
    "In logistic regression where $h_{\\theta}(x^{(i)})$ is between $0$ and $1$ and $y^{(i)}$ can be either $0$ or $1$, this doesn't work very well.\n",
    "In general, we need to come up with a function $\\mathrm{cost}(h_{\\theta}(x), y)$ that somehow measures the \"closeness\" of $h_{\\theta}(x)$ to $y$.\n",
    "The cost function for logistic regression has the following form:\n",
    "\n",
    "\\begin{align}\n",
    "    \\mathrm{cost}(h_{\\theta}(x), y) &=\n",
    "        \\begin{cases}\n",
    "            -\\log (h_{\\theta}(x)) & \\text{if } y = 1 \\\\\n",
    "            -\\log (1 - h_{\\theta}(x)) & \\text{if } y = 0.\n",
    "        \\end{cases}\n",
    "\\end{align}\n",
    "\n",
    "This cost function has a desirable property that (you can check this for yourself!):\n",
    "- $\\mathrm{cost}(h_{\\theta}(x), y) = 0$ if $y = 1$ and $h_{\\theta}(x) = 1$,\n",
    "- $\\mathrm{cost}(h_{\\theta}(x), y) \\to \\infty$ if $y = 1$ and $h_{\\theta}(x) \\to 0$,\n",
    "- $\\mathrm{cost}(h_{\\theta}(x), y) = 0$ if $y = 0$ and $h_{\\theta}(x) = 0$, and\n",
    "- $\\mathrm{cost}(h_{\\theta}(x), y) \\to \\infty$ if $y = 0$ and $h_{\\theta}(x) \\to 1$.\n",
    "\n",
    "This means that an algorithm is penalised by $0$ if it gets the classification right, but by a very large cost if it gets it wrong."
   ]
  },
  {
   "cell_type": "markdown",
   "metadata": {},
   "source": [
    "### 3.4 Simplified Cost Function\n",
    "\n",
    "The cost function\n",
    "\\begin{align}\n",
    "    \\mathrm{cost}(h_{\\theta}(x), y) &=\n",
    "        \\begin{cases}\n",
    "            -\\log (h_{\\theta}(x)) & \\text{if } y = 1 \\\\\n",
    "            -\\log (1 - h_{\\theta}(x)) & \\text{if } y = 0\n",
    "        \\end{cases}\n",
    "\\end{align}\n",
    "is quite clunky to work with.\n",
    "\n",
    "It turns out that we can write it in one expression as\n",
    "\\begin{align}\n",
    "    \\mathrm{cost}(h_{\\theta}(x), y) &= -y \\log (h_{\\theta}(x)) - (1 - y) \\log (1 - h_{\\theta}(x)).\n",
    "\\end{align}\n",
    "\n",
    "Check for yourself that, as required:\n",
    "- if we substitute $y = 1$ to the simplified cost, we obtain $(-\\log (h_{\\theta}(x)))$ and\n",
    "- if we substitute $y = 0$ to the simplified cost, we obtain $(-\\log (1 - h_{\\theta}(x)))$.\n",
    "\n",
    "Hence, given the training data $\\{(x^{(1)}, y^{(1)}), (x^{(2)}, y^{(2)}), \\dotsc, (x^{(m)}, y^{(m)})\\}$, total cost is:\n",
    "\\begin{align}\n",
    "    J(\\theta) &= \\frac{1}{m} \\sum_{i = 1}^m \\mathrm{cost}(h_{\\theta}(x^{(i)}), y^{(i)}) \\\\\n",
    "    &= \\frac{1}{m} \\sum_{i = 1}^m \\left[ -y^{(i)} \\log (h_{\\theta}(x^{(i)})) - (1 - y^{(i)}) \\log (1 - h_{\\theta}(x^{(i)})) \\right]. && \\text{(use the simplified cost)}\n",
    "\\end{align}\n",
    "\n",
    "To find the parameters $\\theta$, we will minimize $J(\\theta)$ with respect to $\\theta$.\n",
    "\n",
    "After this optimization, to make a prediction given a new $x$, we evaluate\n",
    "\\begin{align}\n",
    "    h_{\\theta}(x) = \\frac{1}{1 + e^{-\\theta^T x}},\n",
    "\\end{align}\n",
    "and predict $y = 1$ if $h_{\\theta}(x) \\geq 0.5$ and predict $y = 0$ if $h_{\\theta}(x) < 0.5$.\n",
    "\n",
    "Your task now is to implement a function that returns $J(\\theta)$ given the training data $\\{(x^{(1)}, y^{(1)}), (x^{(2)}, y^{(2)}), \\dotsc, (x^{(m)}, y^{(m)})\\}$ in the form of a matrix $X$ and vector $y$ and the parameter vector $\\theta$:\n",
    "\\begin{align}\n",
    "    X &=\n",
    "        \\begin{bmatrix}\n",
    "            1 & x_1^{(1)} & x_2^{(1)} & \\cdots & x_n^{(1)} \\\\\n",
    "            1 & x_1^{(2)} & x_2^{(2)} & \\cdots & x_n^{(2)} \\\\\n",
    "            \\vdots & & \\ddots & & \\vdots \\\\\n",
    "            1 & x_1^{(m)} & x_2^{(m)} & \\cdots & x_n^{(m)} \\\\\n",
    "        \\end{bmatrix} &&\\text{and}\\\\\n",
    "    y &= \n",
    "        \\begin{bmatrix}\n",
    "            y^{(1)} \\\\\n",
    "            y^{(2)} \\\\\n",
    "            \\vdots \\\\\n",
    "            y^{(m)}\n",
    "        \\end{bmatrix},\n",
    "\\end{align}\n",
    "where $n$ is the number of features and $m$ is the number of examples."
   ]
  },
  {
   "cell_type": "code",
   "execution_count": 8,
   "metadata": {
    "collapsed": true
   },
   "outputs": [],
   "source": [
    "# complete the code here before running this cell\n",
    "def calculate_cost(X, y, theta):\n",
    "    \"\"\"\n",
    "    Implement the cost function explained above.\n",
    "\n",
    "    Arguments:\n",
    "    X -- training data, of size (number of samples, number of features)\n",
    "    y -- true \"label\" vector, of size (number of samples, 1)\n",
    "    theta -- weights, of size (number of features, 1)\n",
    "\n",
    "    Return:\n",
    "    cost -- cost for logistic regression, a scalar\n",
    "    \"\"\"\n",
    "    m, n = X.shape          # m is number of samples, n is number of features\n",
    "    \n",
    "    Z = X @ theta           # linear function above. @ is a Python operator for matrix multiplication, \n",
    "                            # it behaves similar to np.matmul or np.dot with 2D arrays. A @ B is np.matmul(A,B)                  \n",
    "    H = 'write code here'                               \n",
    "\n",
    "    cost = -np.mean(y * np.log(H) + (1 - y) * np.log(1 - H))\n",
    "    \n",
    "    return cost  "
   ]
  },
  {
   "cell_type": "code",
   "execution_count": null,
   "metadata": {
    "collapsed": true
   },
   "outputs": [],
   "source": [
    "# Once you finish the code above, run this cell and compared your output to the expected output\n",
    "theta = np.zeros((3, 1))    # initialize theta to be all 0s\n",
    "calculate_cost(X, y, theta)"
   ]
  },
  {
   "cell_type": "markdown",
   "metadata": {},
   "source": [
    "**Expected Output**: \n",
    "\n",
    "\n",
    "\n",
    "<table>\n",
    "  <tr>\n",
    "    <td>**Cost**</td>\n",
    "    <td> 0.69314718055994529</td> \n",
    "  </tr>\n",
    "</table>\n"
   ]
  },
  {
   "cell_type": "markdown",
   "metadata": {},
   "source": [
    "### 3.5 Gradient of the Cost Function\n",
    "\n",
    "In order to perform gradient descent on the total cost $J(\\theta)$ we need to calculate the partial derivatives of $J(\\theta)$ with respect to each $\\theta_j$.\n",
    "\n",
    "The derivative of the cost function turns out to be\n",
    "\\begin{align}\n",
    "    \\frac{\\partial J(\\theta)}{\\partial \\theta_j} = \\frac{1}{m} \\sum_{i = 1}^m (h_{\\theta}(x^{(i)}) - y^{(i)}) x_j^{(i)}.\n",
    "\\end{align}\n",
    "\n",
    "You can derive this for yourself but for now, just take this on trust.\n",
    "\n",
    "Given the vectorised representation of the training data, we can calculate all the partial derivatives at once.\n",
    "The resulting vector of partial derivatives is called the gradient of $J(\\theta)$ with respect to $\\theta$, denoted $\\nabla_{\\theta} J$:\n",
    "\\begin{align}\n",
    "    \\nabla_{\\theta} J =\n",
    "    \\begin{bmatrix}\n",
    "        \\frac{\\partial J(\\theta)}{\\partial \\theta_0} \\\\\n",
    "        \\frac{\\partial J(\\theta)}{\\partial \\theta_1} \\\\\n",
    "        \\vdots \\\\\n",
    "        \\frac{\\partial J(\\theta)}{\\partial \\theta_n}\n",
    "    \\end{bmatrix} =\n",
    "    \\frac{1}{m} X^T (H - y),\n",
    "\\end{align}\n",
    "where $H$ is a vector of the hypothesis outputs:\n",
    "\\begin{align}\n",
    "    H =\n",
    "    \\begin{bmatrix}\n",
    "        h_{\\theta}(x^{(1)}) \\\\\n",
    "        h_{\\theta}(x^{(2)}) \\\\\n",
    "        \\vdots \\\\\n",
    "        h_{\\theta}(x^{(m)})\n",
    "    \\end{bmatrix}.\n",
    "\\end{align}\n",
    "\n",
    "Your task now is to implement a function that takes in a matrix $X$, a vector $y$, and a vector $\\theta$ and returns the vector $\\nabla_{\\theta} J(\\theta)$."
   ]
  },
  {
   "cell_type": "code",
   "execution_count": 9,
   "metadata": {
    "collapsed": true
   },
   "outputs": [],
   "source": [
    "# complete the code here before running this cell\n",
    "def calculate_gradient(X, y, theta):\n",
    "    \"\"\"\n",
    "    Implement the gradient function above.\n",
    "    \n",
    "    Arguments: same as calculate_cost function\n",
    "    \n",
    "    Return:\n",
    "    dtheta: a vector holding the gradient for all theta_j, of size (number of features, 1)\n",
    "    \"\"\"\n",
    "    m, n = X.shape                           # m is number of samples, n is number of features\n",
    "    \n",
    "    Z = X @ theta                            # linear function above \n",
    "    H = sigmoid(Z)\n",
    "    \n",
    "    dtheta = 'write code here'\n",
    "    \n",
    "    assert dtheta.shape == (n, 1)            # making sure the shape of dtheta is correct\n",
    "    \n",
    "    return dtheta"
   ]
  },
  {
   "cell_type": "code",
   "execution_count": null,
   "metadata": {
    "collapsed": true
   },
   "outputs": [],
   "source": [
    "# Once you finish the code above, run this cell and compared your output to the expected output\n",
    "theta = np.zeros((3, 1))\n",
    "calculate_gradient(X, y, theta)"
   ]
  },