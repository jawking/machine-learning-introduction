
{
 "cells": [
  {
   "cell_type": "markdown",
   "metadata": {},
   "source": [
    "# Programming Exercise 2: Logistic Regression\n",
    "\n",
    "This notebook is based on the [Coursera Machine Learning](https://www.coursera.org/learn/machine-learning) course by Andrew Ng. We believe it is the best course for people who are keen to make their first steps in Machine Learning.\n",
    "\n",
    "The course is taught in Octave / MATLAB, but Python is much more broadly used in the industry and academia. We have used and modified a Python implementation from [David Kaleko](https://github.com/kaleko). \n",
    "\n",
    "Explanations of the model, and any mistakes herein, are of our own doing. If you're unsure about anything, feel free to ask us during the session!\n",
    "\n",
    "**Instructions:**\n",
    "- You can run the notebook at your own pace\n",
    "- When you see \" 'write code here' \" in the cells, delete everything including the \" ' \", then write in your own code. If you are stuck, you can peek at the LogisticRegression_answers notebook. There are many different ways to write code to achieve the same purpose, so don't fret if you seee your code is different from ours. \n",
    "- Ask if you need help\n",
    "\n",
    "**You will learn to:**\n",
    "- Play with a toy dataset\n",
    "\n",
    "- Build one of the simplest machine learning algorithms for classification: Logistic regression\n",
    "\n",
    "- Apply logistic regression on the toy dataset to predict\n",
    "    \n",
    "- Learn how it works and potential caveats"
   ]
  },
  {
   "cell_type": "markdown",
   "metadata": {},
   "source": [
    "## 1 Packages\n",
    "\n",
    "First, let's run the cell below to import all the packages that you will need during this assignment. "
   ]
  },
  {
   "cell_type": "code",
   "execution_count": 1,
   "metadata": {
    "collapsed": true