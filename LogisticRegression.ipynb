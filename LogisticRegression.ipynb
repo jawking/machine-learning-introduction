
{
 "cells": [
  {
   "cell_type": "markdown",
   "metadata": {},
   "source": [
    "# Programming Exercise 2: Logistic Regression\n",
    "\n",
    "This notebook is based on the [Coursera Machine Learning](https://www.coursera.org/learn/machine-learning) course by Andrew Ng. We believe it is the best course for people who are keen to make their first steps in Machine Learning.\n",
    "\n",
    "The course is taught in Octave / MATLAB, but Python is much more broadly used in the industry and academia. We have used and modified a Python implementation from [David Kaleko](https://github.com/kaleko). \n",
    "\n",
    "Explanations of the model, and any mistakes herein, are of our own doing. If you're unsure about anything, feel free to ask us during the session!\n",
    "\n",
    "**Instructions:**\n",
    "- You can run the notebook at your own pace\n",
    "- When you see \" 'write code here' \" in the cells, delete everything including the \" ' \", then write in your own code. If you are stuck, you can peek at the LogisticRegression_answers notebook. There are many different ways to write code to achieve the same purpose, so don't fret if you seee your code is different from ours. \n",
    "- Ask if you need help\n",
    "\n",
    "**You will learn to:**\n",
    "- Play with a toy dataset\n",
    "\n",
    "- Build one of the simplest machine learning algorithms for classification: Logistic regression\n",
    "\n",
    "- Apply logistic regression on the toy dataset to predict\n",
    "    \n",
    "- Learn how it works and potential caveats"
   ]
  },
  {
   "cell_type": "markdown",
   "metadata": {},
   "source": [
    "## 1 Packages\n",
    "\n",
    "First, let's run the cell below to import all the packages that you will need during this assignment. "
   ]
  },
  {
   "cell_type": "code",
   "execution_count": 1,
   "metadata": {
    "collapsed": true
   },
   "outputs": [],
   "source": [
    "# the following line allows us to output plots in the notebook\n",
    "%matplotlib inline \n",
    "\n",
    "import scipy                      # fundamental package that contains all important mathematical functions\n",
    "import numpy as np                # fundamental package for scientific computing with Python\n",
    "import pandas as pd               # fundamental dataframe package to wrangle a dataset in tabular form\n",
    "import matplotlib.pyplot as plt   # famous library to plot graphs in Python"
   ]
  },
  {
   "cell_type": "markdown",
   "metadata": {},
   "source": [
    "## 2 Overview of the Dataset\n",
    "\n",
    "### 2.1 Problem Statement"
   ]
  },
  {
   "cell_type": "markdown",
   "metadata": {},
   "source": [
    "Recall that the task of supervised learning is to train a model to predict a label $y$ given an input $x = (x_1, x_2, \\dotsc, x_n)$ based a bunch of labelled examples $\\{(x^{(1)}, y^{(1)}), (x^{(2)}, y^{(2)}), \\dotsc, (x^{(m)}, y^{(m)})\\}$ which we call the **training data**.\n",
    "\n",
    "In binary classification, the label $y$ can take on two values: $0$ or $1$.\n",
    "$0$ represents the \"negative class\" and $1$ represents the \"positive class\".\n",
    "Given an input $x$ we would like to know which class it belongs to.\n",
    "Some examples logistic regression can be applied to are:\n",
    "- Given an email, predict whether it was \"spam\" or \"not spam\"\n",
    "- Given an online transaction, predict whether it was \"fraud\" or \"not fraud\"\n",
    "- Given a tumor data, predict whether it is \"malignant\" or \"benign\""
   ]
  },
  {
   "cell_type": "markdown",
   "metadata": {},
   "source": [
    "Suppose that you are the administrator of a university department and you want to determine each applicant’s chance of admission based on their results on two exams. You have historical data from previous applicants that you can use as a training set for logistic regression. For each training example, you have the applicant’s scores on two exams and the admissions decision.\n",
    "\n",
    "Let's get more familiar with the dataset. Load the data by running the following code."
   ]
  },
  {
   "cell_type": "code",
   "execution_count": 2,
   "metadata": {},
   "outputs": [
    {
     "data": {
      "text/html": [
       "<div>\n",
       "<style>\n",
       "    .dataframe thead tr:only-child th {\n",
       "        text-align: right;\n",
       "    }\n",
       "\n",
       "    .dataframe thead th {\n",
       "        text-align: left;\n",
       "    }\n",
       "\n",
       "    .dataframe tbody tr th {\n",
       "        vertical-align: top;\n",
       "    }\n",
       "</style>\n",
       "<table border=\"1\" class=\"dataframe\">\n",
       "  <thead>\n",
       "    <tr style=\"text-align: right;\">\n",
       "      <th></th>\n",
       "      <th>Exam1_score</th>\n",
       "      <th>Exam2_score</th>\n",
       "      <th>Admitted</th>\n",
       "    </tr>\n",
       "  </thead>\n",
       "  <tbody>\n",
       "    <tr>\n",
       "      <th>0</th>\n",
       "      <td>3.462366</td>\n",
       "      <td>7.802469</td>\n",
       "      <td>0</td>\n",
       "    </tr>\n",
       "    <tr>\n",
       "      <th>1</th>\n",
       "      <td>3.028671</td>\n",
       "      <td>4.389500</td>\n",
       "      <td>0</td>\n",
       "    </tr>\n",
       "    <tr>\n",
       "      <th>2</th>\n",
       "      <td>3.584741</td>\n",
       "      <td>7.290220</td>\n",
       "      <td>0</td>\n",
       "    </tr>\n",
       "    <tr>\n",
       "      <th>3</th>\n",
       "      <td>6.018260</td>\n",
       "      <td>8.630855</td>\n",
       "      <td>1</td>\n",
       "    </tr>\n",
       "    <tr>\n",
       "      <th>4</th>\n",
       "      <td>7.903274</td>\n",
       "      <td>7.534438</td>\n",
       "      <td>1</td>\n",
       "    </tr>\n",
       "  </tbody>\n",
       "</table>\n",
       "</div>"
      ],
      "text/plain": [
       "   Exam1_score  Exam2_score  Admitted\n",
       "0     3.462366     7.802469         0\n",
       "1     3.028671     4.389500         0\n",
       "2     3.584741     7.290220         0\n",
       "3     6.018260     8.630855         1\n",
       "4     7.903274     7.534438         1"
      ]
     },
     "execution_count": 2,
     "metadata": {},
     "output_type": "execute_result"
    }
   ],
   "source": [
    "data = pd.read_csv('data/exam_data.txt', sep = ',', header=None)\n",
    "data.columns = ['Exam1_score', 'Exam2_score', 'Admitted']\n",
    "\n",
    "# This is the code to display the top samples in the dataset. You can change number to choose how many to display \n",
    "data.head(5)"
   ]
  },
  {
   "cell_type": "markdown",
   "metadata": {},
   "source": [
    "### 2.2 Data Visualization"
   ]
  },
  {
   "cell_type": "code",
   "execution_count": 3,
   "metadata": {
    "scrolled": false
   },
   "outputs": [
    {
     "data": {
      "image/png": "iVBORw0KGgoAAAANSUhEUgAAAfIAAAGDCAYAAADQ75K0AAAABHNCSVQICAgIfAhkiAAAAAlwSFlz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\n",
      "text/plain": [
       "<matplotlib.figure.Figure at 0x9bde208>"
      ]
     },
     "metadata": {},
     "output_type": "display_data"
    }
   ],
   "source": [
    "# save the code of plotting into a function for faster plotting later\n",
    "def plot_data(): \n",
    "    fig, ax = plt.subplots(1, 1, figsize = [8, 6])\n",
    "    # draw\n",
    "    ax.scatter(data.Exam1_score[data.Admitted == 0], data.Exam2_score[data.Admitted == 0], color='#FF5733', marker = 'x',\n",
    "                            alpha=0.85, label='Not admitted')\n",
    "    ax.scatter(data.Exam1_score[data.Admitted == 1], data.Exam2_score[data.Admitted == 1], color='#49FF33', marker = 'o',\n",
    "                            alpha=0.85, label='Admitted')\n",
    "    ax.set_xlabel('Exam 1 score')\n",
    "    ax.set_ylabel('Exam 2 score')\n",
    "    ax.set_title('Scatter plot')\n",
    "    ax.legend()\n",
    "    \n",
    "plot_data()"
   ]
  },
  {
   "cell_type": "code",
   "execution_count": 4,
   "metadata": {},
   "outputs": [
    {
     "name": "stdout",
     "output_type": "stream",