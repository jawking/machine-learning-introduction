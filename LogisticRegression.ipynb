
{
 "cells": [
  {
   "cell_type": "markdown",
   "metadata": {},
   "source": [
    "# Programming Exercise 2: Logistic Regression\n",
    "\n",
    "This notebook is based on the [Coursera Machine Learning](https://www.coursera.org/learn/machine-learning) course by Andrew Ng. We believe it is the best course for people who are keen to make their first steps in Machine Learning.\n",
    "\n",
    "The course is taught in Octave / MATLAB, but Python is much more broadly used in the industry and academia. We have used and modified a Python implementation from [David Kaleko](https://github.com/kaleko). \n",
    "\n",
    "Explanations of the model, and any mistakes herein, are of our own doing. If you're unsure about anything, feel free to ask us during the session!\n",
    "\n",
    "**Instructions:**\n",
    "- You can run the notebook at your own pace\n",
    "- When you see \" 'write code here' \" in the cells, delete everything including the \" ' \", then write in your own code. If you are stuck, you can peek at the LogisticRegression_answers notebook. There are many different ways to write code to achieve the same purpose, so don't fret if you seee your code is different from ours. \n",
    "- Ask if you need help\n",
    "\n",
    "**You will learn to:**\n",
    "- Play with a toy dataset\n",
    "\n",
    "- Build one of the simplest machine learning algorithms for classification: Logistic regression\n",
    "\n",
    "- Apply logistic regression on the toy dataset to predict\n",
    "    \n",
    "- Learn how it works and potential caveats"
   ]
  },
  {
   "cell_type": "markdown",
   "metadata": {},
   "source": [
    "## 1 Packages\n",
    "\n",
    "First, let's run the cell below to import all the packages that you will need during this assignment. "
   ]
  },
  {
   "cell_type": "code",
   "execution_count": 1,
   "metadata": {
    "collapsed": true
   },
   "outputs": [],
   "source": [
    "# the following line allows us to output plots in the notebook\n",
    "%matplotlib inline \n",
    "\n",
    "import scipy                      # fundamental package that contains all important mathematical functions\n",
    "import numpy as np                # fundamental package for scientific computing with Python\n",
    "import pandas as pd               # fundamental dataframe package to wrangle a dataset in tabular form\n",
    "import matplotlib.pyplot as plt   # famous library to plot graphs in Python"
   ]
  },
  {
   "cell_type": "markdown",
   "metadata": {},
   "source": [
    "## 2 Overview of the Dataset\n",
    "\n",
    "### 2.1 Problem Statement"
   ]
  },
  {
   "cell_type": "markdown",
   "metadata": {},
   "source": [
    "Recall that the task of supervised learning is to train a model to predict a label $y$ given an input $x = (x_1, x_2, \\dotsc, x_n)$ based a bunch of labelled examples $\\{(x^{(1)}, y^{(1)}), (x^{(2)}, y^{(2)}), \\dotsc, (x^{(m)}, y^{(m)})\\}$ which we call the **training data**.\n",
    "\n",
    "In binary classification, the label $y$ can take on two values: $0$ or $1$.\n",
    "$0$ represents the \"negative class\" and $1$ represents the \"positive class\".\n",
    "Given an input $x$ we would like to know which class it belongs to.\n",
    "Some examples logistic regression can be applied to are:\n",
    "- Given an email, predict whether it was \"spam\" or \"not spam\"\n",
    "- Given an online transaction, predict whether it was \"fraud\" or \"not fraud\"\n",
    "- Given a tumor data, predict whether it is \"malignant\" or \"benign\""
   ]
  },
  {
   "cell_type": "markdown",
   "metadata": {},
   "source": [
    "Suppose that you are the administrator of a university department and you want to determine each applicant’s chance of admission based on their results on two exams. You have historical data from previous applicants that you can use as a training set for logistic regression. For each training example, you have the applicant’s scores on two exams and the admissions decision.\n",
    "\n",
    "Let's get more familiar with the dataset. Load the data by running the following code."
   ]
  },
  {
   "cell_type": "code",
   "execution_count": 2,
   "metadata": {},
   "outputs": [
    {
     "data": {
      "text/html": [
       "<div>\n",
       "<style>\n",
       "    .dataframe thead tr:only-child th {\n",
       "        text-align: right;\n",
       "    }\n",
       "\n",
       "    .dataframe thead th {\n",
       "        text-align: left;\n",
       "    }\n",
       "\n",
       "    .dataframe tbody tr th {\n",
       "        vertical-align: top;\n",
       "    }\n",
       "</style>\n",
       "<table border=\"1\" class=\"dataframe\">\n",
       "  <thead>\n",
       "    <tr style=\"text-align: right;\">\n",
       "      <th></th>\n",
       "      <th>Exam1_score</th>\n",
       "      <th>Exam2_score</th>\n",
       "      <th>Admitted</th>\n",
       "    </tr>\n",
       "  </thead>\n",
       "  <tbody>\n",
       "    <tr>\n",
       "      <th>0</th>\n",
       "      <td>3.462366</td>\n",
       "      <td>7.802469</td>\n",
       "      <td>0</td>\n",
       "    </tr>\n",
       "    <tr>\n",
       "      <th>1</th>\n",
       "      <td>3.028671</td>\n",
       "      <td>4.389500</td>\n",
       "      <td>0</td>\n",
       "    </tr>\n",
       "    <tr>\n",
       "      <th>2</th>\n",
       "      <td>3.584741</td>\n",
       "      <td>7.290220</td>\n",
       "      <td>0</td>\n",