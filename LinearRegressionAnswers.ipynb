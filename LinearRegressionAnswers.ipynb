
{
 "cells": [
  {
   "cell_type": "markdown",
   "metadata": {},
   "source": [
    "# Programming Exercise 1: Linear Regression\n",
    "\n",
    "This notebook is based on the [Coursera Machine Learning](https://www.coursera.org/learn/machine-learning) course by Andrew Ng. We believe it is the best course for people who are keen to make their first steps in Machine Learning.\n",
    "\n",
    "The course is taught in Octave / MATLAB, but Python is much more broadly used in the industry and academia. The Python code in this tutorial is based on some work by [David Kaleko](https://github.com/kaleko). \n",
    "\n",
    "Explanations of the model, and any mistakes herein, are of our own doing. If you're unsure about anything, feel free to ask us during the session!"
   ]
  },
  {
   "cell_type": "code",
   "execution_count": 1,
   "metadata": {
    "collapsed": true
   },
   "outputs": [],
   "source": [
    "# Start by importing the libraries with the necessary functionality for ML\n",
    "# in Python and for vanilla ML, that almost always includes NumPy\n",
    "\n",
    "# the following line allows us to output plots in the notebook\n",
    "%matplotlib inline\n",
    "import numpy as np\n",
    "import matplotlib.pyplot as plt # plotting library"
   ]
  },
  {
   "cell_type": "markdown",
   "metadata": {},
   "source": [
    "The task of supervised learning is to train a model to predict a label $y$ given an input $x = (x_1, x_2, \\dotsc, x_n)$, where $n$ is the number of input features. For example, $y$ as the target variable can be the price of a house, and $x$ is a vector consisting of $n$ features of the house, such as: the number of bedrooms, proximity to public transport, age of house, etc... Our task then is to build a model that can take these input features of the house and predict the price that the house will be sold at. \n",
    "\n",
    "To train a supervised machine-learning algorithm, you would need a bunch of labelled examples $\\{(x^{(1)}, y^{(1)}), (x^{(2)}, y^{(2)}), \\dotsc, (x^{(m)}, y^{(m)})\\}$ which we call the **training data**, where $m$ is the number of datapoints. Using the above example, we would need a dataset containing the sold price of $m$ houses, along with the $n$ features for each of those houses.\n",
    "\n",
    "A supervised machine learning model typically assumes that there exists a mapping from inputs to outputs, which we can represent as\n",
    "\n",
    "$$ y = h_{\\theta}(x) + \\epsilon $$\n",
    "\n",
    "where $h_{\\theta}(x)$ is called a hypothesis and $\\epsilon$ (pronounced $epsilon$) is a noise term that represents any error that cannot be accounted for by the hypothesis $h$. $\\theta$ (pronounced $theta$) are the model parameters which we will want to tweak to make the predictions as accurate as possible (you will see what we mean in a bit).\n",
    "\n",
    "Linear regression is one of the simplest ML models. It assumes that the mapping from $x$ to $y$ is linear in parameters (i.e. it is composed of the sum of model parameters):\n",
    "\n",
    "$$ y = \\theta_0 + \\theta_1 x_1 + \\cdots + \\theta_n x_n + \\epsilon$$\n",
    "\n",
    "where $\\theta_1 x_1$ is $\\theta_1$ times $x_1$, $x = (x_1, x_2, \\dotsc, x_n)$ are the input variables for one data sample and $\\theta = (\\theta_0, \\theta_1, \\theta_2, \\dotsc, \\theta_n)$ are the model parameters to be learned.\n",
    "\n",
    "Intuitively, the parameter $\\theta_n$ in $\\theta_n x_n$ denotes the slope or how much $y$ is expected to change with each unit change in $x_n$. $\\theta$ can be either positive or negative, e.g. house price is expected to increase by $\\theta_{bed}$ for every extra bedroom, or it is expected to decreased by $\\theta_{transport}$ for every additional meter from a public transport link.\n",
    "\n",
    "Note that we have a $\\theta_n$ for each $x_n$ but we have one more additional term, $\\theta_0$, which we call the bias. This can be interpreted as the *intercept* term, or what $y$ is expected to be in absence of any additional knowledge about $x_n$.\n",
    "\n",
    "It is important to note that linearity is in parameters $\\theta$, *not* the variables $x$. This means that a linear regression permits polynomials or interactions of original variables, for example:\n",
    "\n",
    "$$ y = \\theta_0 + \\theta_1 x_1 + \\theta_2 x_1^2 + \\theta_3 x_2 + \\theta_4 x_1x_2 + \\epsilon$$\n",
    "\n",
    "In theory, this permits the model to learn non-linear relationships between $y$ and (non-transformed) $x$. However, these non-linear relationships and interaction effects are not known a-priori. In practice, we tend to use the simplest model with no higher-order terms.\n",
    "\n",
    "In general linear regression is not the most predictive model out of the box. Nonetheless, it is a very useful baseline in many contexts (and in industry) and benefits from the ease of interpretation and development."
   ]
  },
  {
   "cell_type": "markdown",
   "metadata": {},
   "source": [
    "## 1 Linear regression with one variable"
   ]
  },
  {
   "cell_type": "markdown",
   "metadata": {},
   "source": [
    "Let's start with a simple linear regression model in one variable. You will implement linear regression with one\n",
    "variable to predict profits for a food truck. \n",
    "\n",
    "Suppose you are the CEO of a restaurant franchise and are considering different cities for opening a new outlet.\n",
    "The chain already has trucks in various cities and you have a dataset containing the profits and population size for $m$ cities.\n",
    "The training data can be represented as $\\{(x^{(1)}, y^{(1)}), (x^{(2)}, y^{(2)}), \\dotsc, (x^{(m)}, y^{(m)})\\}$ where $x^{(i)}$ represents the population (in 10k increment) and $y^{(i)}$ represents profit (in \\$10k increment) of the $i$th city.\n",
    "\n",
    "You would like to use this data to help you select which city to expand to next.\n",
    "\n",
    "The file *ex1data1.txt* contains the dataset for our linear regression problem. The first column is the population of a city and the second column is the profit of a food truck in that city. A negative value for profit indicates a\n",
    "loss.\n",
    "\n",
    "\n",
    "Consider output of the hypothesis $h_{\\theta}$\n",
    "\n",
    "$$ h_{\\theta}(x) = \\theta_0 + \\theta_1 x. $$\n",
    "\n",
    "\n",
    "Let's try to interpret this equation. It assumes that the relationship between $y$ and $x$ is linear -- meaning that if we increase $x$ by 1, $h_{\\theta}(x)$ will increase by $\\theta_1$ and if we increase $x$ by $47.1$, $h_{\\theta}(x)$ will increase $47.1 \\cdot \\theta_1$, or $47.1$ times $\\theta_1$. The term $\\theta_0$ allows to shift the linear dependency between $h_{\\theta}(x)$ and $x$ by a constant. When $x = 0$, $h_{\\theta}(x)$ predicts $y$ to be exactly equal to $\\theta_0$."
   ]
  },
  {
   "cell_type": "markdown",
   "metadata": {},
   "source": [
    "### 1.1 Loading the Data\n",
    "\n",
    "In machine learning, we usually represent the data $\\{(x^{(1)}, y^{(1)}), (x^{(2)}, y^{(2)}), \\dotsc, (x^{(m)}, y^{(m)})\\}$ as a matrix $X$ and a vector $y$ where\n",
    "\\begin{align}\n",
    "    X &=\n",
    "        \\begin{bmatrix}\n",
    "            x_1^{(1)} & x_2^{(1)} & \\cdots & x_n^{(1)} \\\\\n",
    "            x_1^{(2)} & x_2^{(2)} & \\cdots & x_n^{(2)} \\\\\n",
    "            \\vdots & \\vdots & \\ddots & \\vdots \\\\\n",
    "            x_1^{(m)} & x_2^{(m)} & \\cdots & x_n^{(m)} \\\\\n",
    "        \\end{bmatrix} &&\\text{and}\\\\\n",
    "    y &= \n",
    "        \\begin{bmatrix}\n",
    "            y^{(1)} \\\\\n",
    "            y^{(2)} \\\\\n",
    "            \\vdots \\\\\n",
    "            y^{(m)}\n",
    "        \\end{bmatrix}.\n",
    "\\end{align}\n",
    "\n",
    "In the one dimensional case the matrix $X$ is just\n",
    "\\begin{align}\n",
    "    X &=\n",
    "        \\begin{bmatrix}\n",
    "            x^{(1)} \\\\\n",
    "            x^{(2)} \\\\\n",
    "            \\vdots \\\\\n",
    "            x^{(m)}\n",
    "        \\end{bmatrix}.\n",
    "\\end{align}"
   ]
  },
  {
   "cell_type": "code",
   "execution_count": 2,
   "metadata": {
    "collapsed": true
   },
   "outputs": [],
   "source": [
    "datafile = 'data/ex1data1.txt'\n",
    "cols = np.loadtxt(datafile, delimiter=',', usecols=(\n",
    "    0, 1), unpack=True)  # Read in comma separated data\n",
    "\n",
    "# Form the usual \"X\" matrix and \"y\" vector\n",
    "X = np.transpose(np.array(cols[:-1]))\n",
    "y = np.transpose(np.array(cols[-1:]))\n",
    "m = y.size  # number of training examples"
   ]
  },
  {
   "cell_type": "markdown",
   "metadata": {},
   "source": [
    "### 1.2 Plotting the Data\n",
    "\n",
    "Before starting on any task, it is often useful to understand the data by visualizing it. For this dataset, you can use a scatter plot to visualize the data, since it has only two properties to plot (profit and population).\n",
    "\n",
    "We focus on the inner workings of machine learning algorithms and therefore you do not need to fill in anything for plotting and model diagnostics. Simply execute the cells with matplotlib code to see what you have achieved so far!"
   ]
  },
  {
   "cell_type": "code",
   "execution_count": 3,
   "metadata": {},
   "outputs": [
    {
     "data": {
      "text/plain": [
       "Text(0.5,0,'Population of City in 10,000s')"
      ]
     },
     "execution_count": 3,
     "metadata": {},
     "output_type": "execute_result"
    },
    {
     "data": {
      "image/png": "iVBORw0KGgoAAAANSUhEUgAAAmEAAAF3CAYAAADtkpxQAAAABHNCSVQICAgIfAhkiAAAAAlwSFlz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\nACpACAMAAKgAIQwAAKAChDAAAIAK/P++mLWTS9hByQAAAABJRU5ErkJggg==\n",
      "text/plain": [
       "<matplotlib.figure.Figure at 0x108a08da0>"
      ]
     },
     "metadata": {},
     "output_type": "display_data"
    }
   ],
   "source": [
    "# Plot the data to see what it looks like\n",
    "plt.figure(figsize=(10, 6))\n",
    "plt.plot(X[:, 0], y[:, 0], 'rx', markersize=10)\n",
    "plt.grid(True)\n",
    "plt.ylabel('Profit in $10,000s')\n",
    "plt.xlabel('Population of City in 10,000s')"
   ]
  },
  {
   "cell_type": "markdown",
   "metadata": {},
   "source": [
    "### 1.3 Gradient Descent"
   ]
  },
  {
   "cell_type": "markdown",
   "metadata": {},
   "source": [
    "Linear regression assumes that we can predict $y$ using a linear model (using matrix notation):\n",
    "\n",
    "$$ h_{\\theta}(x) = \\theta^Tx $$\n",
    "\n",
    "\n",
    "This is just a much more concise way to write:\n",
    "\n",
    "$$ h_{\\theta}(x) = \\theta_1 x_1 + \\theta_2 x_2 + ... \\theta_n x_n$$\n",
    "\n",
    "---\n",
    "#### Aside: Adding a Column of Ones to $X$ and the Expressing the Hypothesis Function in Vector Form\n",
    "\n",
    "(Ask us for help if anything is unclear.)\n",
    "\n",
    "How can we write the linear hypothesis in matrix form?\n",
    "\n",
    "$$ h_{\\theta}(x) = \\theta_0 + \\theta_1 x_1 + \\cdots + \\theta_n x_n. $$\n",
    "\n",
    "Recall that we can compactly write a set of linear equations as a matrix multiplication. For example\n",
    "\\begin{align}\n",
    "    \\begin{bmatrix}\n",
    "        a & b \\\\\n",
    "        c & d\n",
    "    \\end{bmatrix}\n",
    "    \\begin{bmatrix}\n",
    "        e & f \\\\\n",
    "        g & h\n",
    "    \\end{bmatrix} &=\n",
    "    \\begin{bmatrix}\n",
    "        ae + bg & af + bh \\\\\n",
    "        ce + dg & cf + dh\n",
    "    \\end{bmatrix} \\\\\n",
    "    \\begin{bmatrix}\n",
    "        i & j \\\\\n",
    "        k & l\n",
    "    \\end{bmatrix}\n",
    "    \\begin{bmatrix}\n",
    "        m \\\\\n",
    "        n\n",
    "    \\end{bmatrix} &=\n",
    "    \\begin{bmatrix}\n",
    "        im + jn \\\\\n",
    "        km + ln\n",
    "    \\end{bmatrix}\\\\\n",
    "    \\begin{bmatrix}\n",
    "        o & p\n",
    "    \\end{bmatrix}\n",
    "    \\begin{bmatrix}\n",
    "        q \\\\\n",
    "        r\n",
    "    \\end{bmatrix} &=\n",
    "    \\begin{bmatrix}\n",
    "        oq + pr\n",
    "    \\end{bmatrix}\n",
    "\\end{align}\n",
    "\n",
    "With this in mind, we can write the linear hypothesis as following:\n",
    "\\begin{align}\n",
    "    h_{\\theta}(x) = \\theta_0 + \\theta_1 x_1 + \\cdots + \\theta_n x_n =\n",
    "    \\begin{bmatrix}\n",
    "        \\theta_0 & \\theta_1 & \\cdots & \\theta_n\n",
    "    \\end{bmatrix}\n",
    "    \\begin{bmatrix}\n",
    "        1 \\\\\n",
    "        x_1 \\\\\n",
    "        \\vdots \\\\\n",
    "        x_n\n",
    "    \\end{bmatrix} =\n",
    "    \\theta^T x,\n",
    "\\end{align}\n",
    "where we add a one in the $x$ vector which you can think of as the $x_0$ term:\n",
    "\\begin{align}\n",
    "    x = \\begin{bmatrix}\n",
    "        1 \\\\\n",
    "        x_1 \\\\\n",
    "        \\vdots \\\\\n",
    "        x_n\n",
    "    \\end{bmatrix}.\n",
    "\\end{align}\n",
    "\n",
    "Now, the above for a single observation and we have $m$ of those. The convention is to write the matrix of inputs $X$ as a $m \\times (n + 1)$ matrix, where $n + 1$ is the number of variables *plus a constant term*:\n",
    "\\begin{align}\n",
    "    X = \\begin{bmatrix}\n",
    "        1 & x_1^{(1)} & \\cdots & x_n^{(1)} \\\\\n",
    "        1 & x_1^{(2)} & \\cdots & x_n^{(2)} \\\\\n",
    "        \\vdots & \\vdots & \\ddots & \\vdots \\\\\n",
    "        1 & x_1^{(m)} & \\cdots & x_n^{(m)}\n",
    "    \\end{bmatrix}.\n",
    "\\end{align}\n",
    "The first column is a column of ones such that when multiplied with the weights vector, we get the term $\\theta_0$ added for every observation:\n",
    "\\begin{align}\n",
    "    \\begin{bmatrix}\n",
    "        h_{\\theta}(x^{(1)}) \\\\\n",
    "        h_{\\theta}(x^{(2)}) \\\\\n",
    "        \\vdots \\\\\n",
    "        h_{\\theta}(x^{(m)})\n",
    "    \\end{bmatrix} =\n",
    "    \\begin{bmatrix}\n",
    "        \\theta_0 + \\theta_1 x_1^{(1)} + \\cdots + \\theta_n x_n^{(1)} \\\\\n",
    "        \\theta_0 + \\theta_1 x_1^{(2)} + \\cdots + \\theta_n x_n^{(2)} \\\\\n",
    "        \\vdots \\\\\n",
    "        \\theta_0 + \\theta_1 x_1^{(m)} + \\cdots + \\theta_n x_n^{(m)} \\\\\n",
    "    \\end{bmatrix} =\n",
    "    \\begin{bmatrix}\n",
    "        1 & x_1^{(1)} & \\cdots & x_n^{(1)} \\\\\n",
    "        1 & x_1^{(2)} & \\cdots & x_n^{(2)} \\\\\n",
    "        \\vdots & \\vdots & \\ddots & \\vdots \\\\\n",
    "        1 & x_1^{(m)} & \\cdots & x_n^{(m)}\n",
    "    \\end{bmatrix}\n",
    "    \\begin{bmatrix}\n",
    "        \\theta_0 \\\\\n",
    "        \\theta_1 \\\\\n",
    "        \\vdots \\\\\n",
    "        \\theta_n\n",
    "    \\end{bmatrix} =\n",
    "    X\\theta\n",
    "\\end{align}\n",
    "In the case of linear regression with a single variable, $X$ will have $ n + 1 = 2$ columns.\n",
    "\n",
    "For convenience, we will consider $n$ to be the number of columns of $X$ with the ones added."
   ]
  },
  {
   "cell_type": "code",
   "execution_count": 4,
   "metadata": {
    "collapsed": true
   },
   "outputs": [],
   "source": [
    "X = np.insert(X, 0, 1, axis=1)\n",
    "m, n = X.shape"
   ]
  },
  {
   "cell_type": "markdown",
   "metadata": {},
   "source": [
    "---\n",
    "\n",
    "The task of training a model is therefore finding parameters $\\theta$ such that $h_{\\theta}(x)$ is as close as possible to true labels $y$. What does it mean for a prediction and a true label to be 'close'? We have to define a cost function that penalises deviations of our predictions from the truth and then proceed to search for parameters that minimize such deivations.\n",
    "\n",
    "Linear regression models are trained using a *mean squared error* cost function:\n",
    "\n",
    "$$ J(\\theta) = \\frac{1}{2m} \\sum_{i = 1}^m \\left(h_{\\theta} (x^{(i)}) - y^{(i)} \\right)^2 $$\n",
    "\n",
    "where $m$ is the total number of examples in the training data.\n",
    "\n",
    "The function above simply says: the cost is equal to the sum of errors for all observations in the training data, where each error is equal to the squared difference between the prediction and the true value of $y$. This function is continuous and yields itself to optimization via gradient-based methods. The mathematically inclined may notice that this is a convex function and hence it is possible to find a global minimum using gradient descent (in fact, linear regression has a closed form solution, but we will focus on gradient descent as a more general method of training ML models).\n"
   ]
  },
  {
   "cell_type": "code",
   "execution_count": 5,
   "metadata": {
    "collapsed": true
   },
   "outputs": [],
   "source": [
    "iterations = 1500\n",
    "alpha = 0.01"
   ]
  },
  {
   "cell_type": "code",
   "execution_count": 6,
   "metadata": {},
   "outputs": [
    {
     "name": "stdout",
     "output_type": "stream",
     "text": [
      "32.0727338775\n"
     ]
    }
   ],
   "source": [
    "def h(theta, X):  # Linear hypothesis function\n",
    "    # this is equivalent to np.dot(X, theta)\n",
    "    return X@theta\n",
    "\n",
    "\n",
    "def computeCost(theta, X, y):  # Cost function\n",
    "    \"\"\"\n",
    "    theta_start is an n- dimensional vector of initial theta guess\n",
    "    X is matrix with n- columns and m- rows\n",
    "    y is a matrix with m- rows and 1 column\n",
    "    \"\"\"\n",
    "    residual = h(theta, X) - y\n",
    "    \n",
    "    # (1. / (2 * m)) * np.dot(residual.T, residual)[0, 0]\n",
    "    return (1. / (2 * m)) * (residual.T@residual)[0, 0]\n",
    "\n",
    "#Test that running computeCost with 0's as theta returns 32.07:\n",
    "\n",
    "initial_theta = np.zeros((X.shape[1], 1)) #(theta is a vector with n rows and 1 columns (if X has n features) )\n",
    "print(computeCost(initial_theta, X, y))"
   ]
  },
  {
   "cell_type": "markdown",
   "metadata": {},
   "source": [
    "Gradient descent is an iterative procedure where we update parameters in the direction of steepest descent (i.e. the direction that will reduce the cost function the most). How much we wish to move in that direction is controlled by a step size parameter $\\alpha$. Hence, the formula is:\n",
    "\n",
    "$$ \\theta_{t+1} = \\theta_t - \\alpha  \\frac{dJ}{d\\theta} $$\n",
    "\n",
    "The gradient for the cost function can be obtained by differentiating $J$ and is equal to:\n",
    "\n",
    "$$ \\frac{dJ}{d\\theta_k} = \\frac{1}{m}\\sum_{i = 1}^m x_k^{(i)}\\left(h_{\\theta}(x^{(i)}) - y^{(i)}\\right) $$\n",
    "\n",
    "In pseudocode, we can therefore write the gradient descent algorithm as following:\n",
    "\n",
    "1. for t iterations do:\n",
    "    $$(\\theta_k)_t = (\\theta_k)_{t-1} - \\alpha  \\frac{1}{m}\\sum_{i = 1}^m x_k^{(i)}\\left(h_{\\theta}(x^{(i)}) - y^{(i)}\\right) $$\n",
    "5. end"
   ]
  },
  {
   "cell_type": "code",
   "execution_count": 7,
   "metadata": {
    "collapsed": true
   },
   "outputs": [],
   "source": [
    "\n",
    "#Actual gradient descent minimizing routine\n",
    "def descendGradient(X, y, theta_start=np.zeros(2)):\n",
    "    \"\"\"\n",
    "    theta_start is an n- dimensional vector of initial theta guess\n",
    "    X is matrix with n- columns and m- rows\n",
    "    \"\"\"\n",
    "    theta = theta_start\n",
    "    \n",
    "    # Store costs over GD iterations to plot them later!\n",
    "    cost_history = []  \n",
    "    \n",
    "    # Store parameters over GD iterations to visualize how they change later\n",
    "    theta_history = []\n",
    "    for _ in range(iterations):\n",
    "        theta_new = theta\n",
    "        cost_history.append(computeCost(theta, X, y))\n",
    "\n",
    "        theta_history.append(list(theta[:, 0]))\n",
    "\n",
    "        for j in range(len(theta_new)):\n",
    "            X_j = np.array(X[:, j]).reshape(m, 1)\n",
    "            theta_new[j] = theta[j] - (alpha / m) * \\\n",
    "                np.sum((h(theta, X) - y) * X_j)\n",
    "        theta = theta_new\n",
    "    return theta, theta_history, cost_history"
   ]
  },
  {
   "cell_type": "code",
   "execution_count": 8,
   "metadata": {
    "scrolled": false
   },
   "outputs": [
    {
     "data": {
      "text/plain": [
       "(4, 7)"
      ]
     },
     "execution_count": 8,
     "metadata": {},
     "output_type": "execute_result"
    },
    {
     "data": {
      "image/png": "iVBORw0KGgoAAAANSUhEUgAAAmQAAAGDCAYAAACFuAwbAAAABHNCSVQICAgIfAhkiAAAAAlwSFlz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\nJEmq2f8H/4t4FwoCJ7cAAAAASUVORK5CYII=\n",
      "text/plain": [
       "<matplotlib.figure.Figure at 0x108a5a390>"
      ]
     },
     "metadata": {},
     "output_type": "display_data"
    }
   ],
   "source": [
    "# Actually run gradient descent to get the best-fit theta values\n",
    "initial_theta = np.zeros((X.shape[1], 1))\n",
    "theta, theta_history, cost_history = descendGradient(X, y, initial_theta)\n",
    "\n",
    "# Plot the convergence of the cost function\n",
    "def plotConvergence(cost_history):\n",
    "    plt.figure(figsize=(10, 6))\n",
    "    plt.plot(range(len(cost_history)), cost_history, 'bo')\n",
    "    plt.grid(True)\n",
    "    plt.title(\"Convergence of Cost Function\")\n",
    "    plt.xlabel(\"Iteration number\")\n",
    "    plt.ylabel(\"Cost function\")\n",
    "    plt.xlim([-0.05 * iterations, 1.05 * iterations])\n",
    "\n",
    "plotConvergence(cost_history)\n",
    "plt.ylim([4, 7])"
   ]
  },
  {
   "cell_type": "markdown",
   "metadata": {},
   "source": [
    "Looks like at every iteration we are improving our model! That is because the cost function $J$ defined above is strictly convex and with a unique global minimum. Consequently, every iteration, provided our step size $a$ is not too large, will lead to a decrease in the cost as we improve our parameters (weights). \n",
    "\n",
    "As an aside, many ML models that you may encounter in the future do not have convex cost functions with a unique global minimum, so in general you should not expect to see the same plot as above in all circumstances."
   ]
  },
  {
   "cell_type": "code",
   "execution_count": 9,
   "metadata": {},
   "outputs": [
    {
     "data": {
      "text/plain": [
       "<matplotlib.legend.Legend at 0x108d6a160>"
      ]
     },
     "execution_count": 9,
     "metadata": {},
     "output_type": "execute_result"
    },
    {
     "data": {
      "image/png": "iVBORw0KGgoAAAANSUhEUgAAAmEAAAF3CAYAAADtkpxQAAAABHNCSVQICAgIfAhkiAAAAAlwSFlz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\n",
      "text/plain": [
       "<matplotlib.figure.Figure at 0x108a08cf8>"
      ]
     },
     "metadata": {},
     "output_type": "display_data"
    }
   ],
   "source": [
    "#Plot the line on top of the data to ensure it looks correct\n",
    "def fit(xval):\n",
    "    return theta[0] + theta[1] * xval\n",
    "\n",
    "\n",
    "plt.figure(figsize=(10, 6))\n",
    "plt.plot(X[:, 1], y[:, 0], 'rx', markersize=10, label='Training Data')\n",
    "plt.plot(X[:, 1], fit(X[:, 1]), 'b-',\n",
    "         label='Hypothesis: h(x) = %0.2f + %0.2fx' % (theta[0], theta[1]))\n",
    "plt.grid(True)  # Always plot.grid true!\n",
    "plt.ylabel('Profit in $10,000s')\n",
    "plt.xlabel('Population of City in 10,000s')\n",
    "plt.legend()"
   ]
  },
  {
   "cell_type": "markdown",
   "metadata": {},
   "source": [
    "#### 2.5 Visualizing _J($\\theta$)_"
   ]
  },
  {
   "cell_type": "markdown",
   "metadata": {},
   "source": [
    "As you perform gradient descent to learn minimize the cost function $J(\\theta)$,\n",
    "it is helpful to monitor the convergence by computing the cost. In this\n",
    "section, you will implement a function to calculate $J(\\theta)$ so you can check the\n",
    "convergence of your gradient descent implementation.\n",
    "\n",
    "To understand the cost function $J(\\theta)$ better, you will now plot the cost over\n",
    "a 2-dimensional grid of $\\theta_0$ and $\\theta_1$ values. "
   ]
  },
  {
   "cell_type": "code",
   "execution_count": 10,
   "metadata": {
    "scrolled": false