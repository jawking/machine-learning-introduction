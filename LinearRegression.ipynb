
{
 "cells": [
  {
   "cell_type": "markdown",
   "metadata": {},
   "source": [
    "# Programming Exercise 1: Linear Regression\n",
    "\n",
    "This notebook is based on the [Coursera Machine Learning](https://www.coursera.org/learn/machine-learning) course by Andrew Ng. We believe it is the best course for people who are keen to make their first steps in Machine Learning.\n",
    "\n",
    "The course is taught in Octave / MATLAB, but Python is much more broadly used in the industry and academia. The Python code in this tutorial is based on some work by [David Kaleko](https://github.com/kaleko). \n",
    "\n",
    "Explanations of the model, and any mistakes herein, are of our own doing. If you're unsure about anything, feel free to ask us during the session!"
   ]
  },
  {
   "cell_type": "code",
   "execution_count": null,
   "metadata": {
    "collapsed": true
   },
   "outputs": [],
   "source": [
    "# Start by importing the libraries with the necessary functionality for ML\n",
    "# in Python and for vanilla ML, that almost always includes NumPy\n",
    "\n",
    "# the following line allows us to output plots in the notebook\n",
    "%matplotlib inline\n",
    "import numpy as np\n",
    "import matplotlib.pyplot as plt # plotting library"
   ]
  },
  {
   "cell_type": "markdown",
   "metadata": {},
   "source": [
    "The task of supervised learning is to train a model to predict a label $y$ given an input $x = (x_1, x_2, \\dotsc, x_n)$, where $n$ is the number of input features. For example, $y$ as the target variable can be the price of a house, and $x$ is a vector consisting of $n$ features of the house, such as: the number of bedrooms, proximity to public transport, age of house, etc... Our task then is to build a model that can take these input features of the house and predict the price that the house will be sold at. \n",
    "\n",
    "To train a supervised machine-learning algorithm, you would need a bunch of labelled examples $\\{(x^{(1)}, y^{(1)}), (x^{(2)}, y^{(2)}), \\dotsc, (x^{(m)}, y^{(m)})\\}$ which we call the **training data**, where $m$ is the number of datapoints. Using the above example, we would need a dataset containing the sold price of $m$ houses, along with the $n$ features for each of those houses.\n",
    "\n",
    "A supervised machine learning model typically assumes that there exists a mapping from inputs to outputs, which we can represent as\n",
    "\n",
    "$$ y = h_{\\theta}(x) + \\epsilon $$\n",
    "\n",
    "where $h_{\\theta}(x)$ is called a hypothesis and $\\epsilon$ (pronounced $epsilon$) is a noise term that represents any error that cannot be accounted for by the hypothesis $h$. $\\theta$ (pronounced $theta$) are the model parameters which we will want to tweak to make the predictions as accurate as possible (you will see what we mean in a bit).\n",
    "\n",
    "Linear regression is one of the simplest ML models. It assumes that the mapping from $x$ to $y$ is linear in parameters (i.e. it is composed of the sum of model parameters):\n",
    "\n",
    "$$ y = \\theta_0 + \\theta_1 x_1 + \\cdots + \\theta_n x_n + \\epsilon$$\n",
    "\n",
    "where $\\theta_1 x_1$ is $\\theta_1$ times $x_1$, $x = (x_1, x_2, \\dotsc, x_n)$ are the input variables for one data sample and $\\theta = (\\theta_0, \\theta_1, \\theta_2, \\dotsc, \\theta_n)$ are the model parameters to be learned.\n",
    "\n",
    "Intuitively, the parameter $\\theta_n$ in $\\theta_n x_n$ denotes the slope or how much $y$ is expected to change with each unit change in $x_n$. $\\theta$ can be either positive or negative, e.g. house price is expected to increase by $\\theta_{bed}$ for every extra bedroom, or it is expected to decreased by $\\theta_{transport}$ for every additional meter from a public transport link.\n",
    "\n",
    "Note that we have a $\\theta_n$ for each $x_n$ but we have one more additional term, $\\theta_0$, which we call the bias. This can be interpreted as the *intercept* term, or what $y$ is expected to be in absence of any additional knowledge about $x_n$.\n",
    "\n",
    "It is important to note that linearity is in parameters $\\theta$, *not* the variables $x$. This means that a linear regression permits polynomials or interactions of original variables, for example:\n",
    "\n",
    "$$ y = \\theta_0 + \\theta_1 x_1 + \\theta_2 x_1^2 + \\theta_3 x_2 + \\theta_4 x_1x_2 + \\epsilon$$\n",
    "\n",
    "In theory, this permits the model to learn non-linear relationships between $y$ and (non-transformed) $x$. However, these non-linear relationships and interaction effects are not known a-priori. In practice, we tend to use the simplest model with no higher-order terms.\n",
    "\n",
    "In general linear regression is not the most predictive model out of the box. Nonetheless, it is a very useful baseline in many contexts (and in industry) and benefits from the ease of interpretation and development."
   ]
  },
  {
   "cell_type": "markdown",
   "metadata": {},
   "source": [
    "## 1 Linear regression with one variable"
   ]
  },
  {
   "cell_type": "markdown",
   "metadata": {},
   "source": [
    "Let's start with a simple linear regression model in one variable. You will implement linear regression with one\n",
    "variable to predict profits for a food truck. \n",
    "\n",
    "Suppose you are the CEO of a restaurant franchise and are considering different cities for opening a new outlet.\n",
    "The chain already has trucks in various cities and you have a dataset containing the profits and population size for $m$ cities.\n",
    "The training data can be represented as $\\{(x^{(1)}, y^{(1)}), (x^{(2)}, y^{(2)}), \\dotsc, (x^{(m)}, y^{(m)})\\}$ where $x^{(i)}$ represents the population (in 10k increment) and $y^{(i)}$ represents profit (in \\$10k increment) of the $i$th city.\n",
    "\n",
    "You would like to use this data to help you select which city to expand to next.\n",
    "\n",
    "The file *ex1data1.txt* contains the dataset for our linear regression problem. The first column is the population of a city and the second column is the profit of a food truck in that city. A negative value for profit indicates a\n",
    "loss.\n",
    "\n",
    "\n",
    "Consider output of the hypothesis $h_{\\theta}$\n",
    "\n",
    "$$ h_{\\theta}(x) = \\theta_0 + \\theta_1 x. $$\n",
    "\n",
    "\n",