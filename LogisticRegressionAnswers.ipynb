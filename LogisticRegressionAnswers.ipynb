
{
 "cells": [
  {
   "cell_type": "markdown",
   "metadata": {},
   "source": [
    "# Programming Exercise 2: Logistic Regression\n",
    "\n",
    "This notebook is based on the [Coursera Machine Learning](https://www.coursera.org/learn/machine-learning) course by Andrew Ng. We believe it is the best course for people who are keen to make their first steps in Machine Learning.\n",
    "\n",
    "The course is taught in Octave / MATLAB, but Python is much more broadly used in the industry and academia. We have used and modified a Python implementation from [David Kaleko](https://github.com/kaleko). \n",
    "\n",
    "Explanations of the model, and any mistakes herein, are of our own doing. If you're unsure about anything, feel free to ask us during the session!\n",
    "\n",
    "**Instructions:**\n",
    "- You can run the notebook at your own pace\n",
    "- This note book already have evreything filled in. You can just run all the cells if you are not confident in your coding skills, or if you are stuck at the other 2 notebooks and want a sneak peek.\n",
    "- Ask if you need help\n",
    "\n",
    "**You will learn to:**\n",
    "- Play with a toy dataset\n",
    "\n",
    "- Build one of the simplest machine learning algorithms for classification: Logistic regression\n",
    "\n",
    "- Apply logistic regression on the toy dataset to predict\n",
    "    \n",
    "- Learn how it works and potential caveats"
   ]
  },
  {
   "cell_type": "markdown",
   "metadata": {},
   "source": [
    "## 1 Packages\n",
    "\n",