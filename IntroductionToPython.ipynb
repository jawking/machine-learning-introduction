
{
 "cells": [
  {
   "cell_type": "markdown",
   "metadata": {},
   "source": [
    "# Introduction to Python\n",
    "\n",
    "Python is a general-purpose scripting / programming language that has a simple, easy-to-learn syntax. It has a great suite of libraries for analytics / machine learning hence its popularity among Data Scientists. \n",
    "\n",
    "In this tutorials we will introduce you to basic concepts in Python, just enough for you to be able to understand and be productive in the next sections.\n",
    "\n",
    "This tutorial is adapted from  [Learn Python in Y Minutes](https://learnxinyminutes.com/docs/python/) to Jupyter notebook. \n",
    "\n",
    "\n",
    "### How to use Jupyter Notebook\n",
    "In a Jupyter notebook, each code block can be executed independently, where the results of evaluating the code block is printed directly below it in the 'Out[n]' field.\n",
    "\n",
    "To execute a code block, click on it and press `CTRL+Enter`.\n",
    "\n",
    "To execute a code block and immediately move to the next code block, press `Shift+Enter`.\n",
    "\n",
    "Try using `Shift-Enter` to execute every code blocks as you follow along this tutorial.\n",
    "\n",
    "### Basics"
   ]
  },
  {
   "cell_type": "code",